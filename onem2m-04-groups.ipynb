{
 "cells": [
  {
   "cell_type": "markdown",
   "metadata": {},
   "source": [
    "# oneM2M - Groups\n",
    "\n",
    "This notebook demonstrates how oneM2M resources can be organized into groups. &lt;Group> resources offer a so-called *fan-out point* that can be the target to address all resources of a group.\n",
    "\n",
    "- Create a second &lt;Container resource\n",
    "- Create a &lt;Group> resource with &lt;Container> resources\n",
    "- Add a &lt;ContentInstance> to the &lg;Group>'s containers\n",
    "\n",
    "## Intitialization\n",
    "The section does import necessary modules and configurations."
   ]
  },
  {
   "cell_type": "code",
   "execution_count": 1,
   "metadata": {},
   "outputs": [],
   "source": [
    "from init import *"
   ]
  },
  {
   "cell_type": "markdown",
   "metadata": {},
   "source": [
    "## Create a second &lt;Container> Resource\n",
    "\n",
    "First, we create a second &lt;Container> resource.\n"
   ]
  },
  {
   "cell_type": "code",
   "execution_count": 2,
   "metadata": {},
   "outputs": [
    {
     "name": "stdout",
     "output_type": "stream",
     "text": [
      "201 (Created)\n",
      "========== Headers ==========\n",
      "Content-Location:/in-cse/cnt-599345609\n",
      "X-M2M-RI:0\n",
      "X-M2M-Origin:/in-cse\n",
      "X-M2M-RSC:2001\n",
      "Content-Type:application/json;charset=UTF-8\n",
      "Content-Length:505\n",
      "Server:Jetty(8.1.16.v20140903)\n",
      "\n",
      "========== Body ==========\n",
      "{\n",
      "   \"m2m:cnt\" : {\n",
      "      \"rn\" : \"secondContainer\",\n",
      "      \"ty\" : 3,\n",
      "      \"ri\" : \"/in-cse/cnt-599345609\",\n",
      "      \"pi\" : \"/in-cse/CAE260268828\",\n",
      "      \"ct\" : \"20190306T191114\",\n",
      "      \"lt\" : \"20190306T191114\",\n",
      "      \"acpi\" : [ \"/in-cse/acp-131891041\" ],\n",
      "      \"et\" : \"20200306T191114\",\n",
      "      \"st\" : 0,\n",
      "      \"mni\" : 10,\n",
      "      \"mbs\" : 10000,\n",
      "      \"mia\" : 0,\n",
      "      \"cni\" : 0,\n",
      "      \"cbs\" : 0,\n",
      "      \"ol\" : \"/in-cse/in-name/myAE/secondContainer/ol\",\n",
      "      \"la\" : \"/in-cse/in-name/myAE/secondContainer/la\"\n",
      "   }\n",
      "}\n"
     ]
    }
   ],
   "source": [
    "headers = {\n",
    "    'X-M2M-Origin' : originator,               # Set the originator\n",
    "    'X-M2M-RI'     : '0',                      # Request identifier\n",
    "    'Accept'       : 'application/json',       # Response shall be JSON\n",
    "    'Content-Type' : 'application/json;ty=3'   # Content is JSON, and represents an <Container> resource\n",
    "}\n",
    "\n",
    "data = '''\n",
    "{\n",
    "  \"m2m:cnt\": {\n",
    "    \"rn\":\"secondContainer\"\n",
    "  }\n",
    "}\n",
    "'''\n",
    "\n",
    "response = requests.post(url + '/myAE', headers=headers, data=data)    # CREATE request\n",
    "printResponse(response)"
   ]
  },
  {
   "cell_type": "markdown",
   "metadata": {},
   "source": [
    "## Create a &lt;Group> Resource\n",
    "\n",
    "Here, we create a &lt;Group> resource with the two &lt;Container> resources as components.\n",
    "\n",
    "- **mid** : Member IDs, this is a list of resource IDs of resources that will belong to the &lt;Group>. \n",
    "- **mnm** : The maximum number of member of a &lt;Group>.\n",
    "\n",
    "Note, that a &lt;Group> may contain resources of mixed type. Requests to the &lt;Group>'s fan-out point in general only affect fitting resources.\n"
   ]
  },
  {
   "cell_type": "code",
   "execution_count": 3,
   "metadata": {},
   "outputs": [
    {
     "name": "stdout",
     "output_type": "stream",
     "text": [
      "201 (Created)\n",
      "========== Headers ==========\n",
      "Content-Location:/in-cse/grp-622557793\n",
      "X-M2M-RI:0\n",
      "X-M2M-Origin:/in-cse\n",
      "X-M2M-RSC:2001\n",
      "Content-Type:application/json;charset=UTF-8\n",
      "Content-Length:515\n",
      "Server:Jetty(8.1.16.v20140903)\n",
      "\n",
      "========== Body ==========\n",
      "{\n",
      "   \"m2m:grp\" : {\n",
      "      \"rn\" : \"myGroup\",\n",
      "      \"ty\" : 9,\n",
      "      \"ri\" : \"/in-cse/grp-622557793\",\n",
      "      \"pi\" : \"/in-cse/CAE260268828\",\n",
      "      \"ct\" : \"20190306T191114\",\n",
      "      \"lt\" : \"20190306T191114\",\n",
      "      \"acpi\" : [ \"/in-cse/acp-131891041\" ],\n",
      "      \"et\" : \"20200306T191114\",\n",
      "      \"mt\" : 24,\n",
      "      \"cnm\" : 2,\n",
      "      \"mnm\" : 10,\n",
      "      \"mid\" : [ \"/in-cse/in-name/myAE/myContainer\", \"/in-cse/in-name/myAE/secondContainer\" ],\n",
      "      \"mtv\" : false,\n",
      "      \"csy\" : 1,\n",
      "      \"fopt\" : \"/in-cse/in-name/myAE/myGroup/fopt\"\n",
      "   }\n",
      "}\n"
     ]
    }
   ],
   "source": [
    "headers = {\n",
    "    'X-M2M-Origin' : originator,               # Set the originator\n",
    "    'X-M2M-RI'     : '0',                      # Request identifier\n",
    "    'Accept'       : 'application/json',       # Response shall be JSON\n",
    "    'Content-Type' : 'application/json;ty=9'   # Content is JSON, and represents an <Group> resource\n",
    "}\n",
    "\n",
    "data = '''\n",
    "{\n",
    "  \"m2m:grp\": {\n",
    "    \"rn\": \"myGroup\",\n",
    "    \"mid\": [ \"/in-cse/in-name/myAE/myContainer\", \"/in-cse/in-name/myAE/secondContainer\" ],\n",
    "    \"mnm\": 10\n",
    "  }\n",
    "}\n",
    "'''\n",
    "\n",
    "\n",
    "response = requests.post(url + '/myAE', headers=headers, data=data)    # CREATE request\n",
    "printResponse(response)"
   ]
  },
  {
   "cell_type": "markdown",
   "metadata": {},
   "source": [
    "The response introduces some new attributes:\n",
    "\n",
    "- **mt** : Member type. This is the resource type of the member resources. The member type is *mixed\" in case the member resourtces are not all of the same type.\n",
    "- **cnm** : The current number of member of the &lt;Group> resource.\n",
    "- **mtv** : Member types validated. This read-only attribute indicates whether the hosting CSE validated the member resources.\n",
    "- **csy** : The consistency strategy determines how the CSE deals with the &lt;Group> resource if the member type validation fails.\n",
    "- **fopt** : The fan-out point is a virtual resource created by the CSE. It acts as a target for requests to the members of a &lt;Group> resource.\n",
    "\n",
    "\n",
    "## Add a &lt;ContentInstance> Resource to all &lt;Group> Resources"
   ]
  },
  {
   "cell_type": "code",
   "execution_count": 4,
   "metadata": {},
   "outputs": [
    {
     "name": "stdout",
     "output_type": "stream",
     "text": [
      "200 (OK)\n",
      "========== Headers ==========\n",
      "X-M2M-RI:0\n",
      "X-M2M-Origin:/in-cse\n",
      "X-M2M-RSC:2000\n",
      "Content-Type:application/json;charset=UTF-8\n",
      "Content-Length:1190\n",
      "Server:Jetty(8.1.16.v20140903)\n",
      "\n",
      "========== Body ==========\n",
      "{\n",
      "   \"m2m:agr\" : {\n",
      "      \"m2m:rsp\" : [ {\n",
      "         \"m2m:rsc\" : 2001,\n",
      "         \"m2m:rqi\" : \"0\",\n",
      "         \"m2m:pc\" : {\n",
      "            \"m2m:cin\" : {\n",
      "               \"rn\" : \"cin_535285161\",\n",
      "               \"ty\" : 4,\n",
      "               \"ri\" : \"/in-cse/cin-535285161\",\n",
      "               \"pi\" : \"/in-cse/cnt-947129917\",\n",
      "               \"ct\" : \"20190306T191114\",\n",
      "               \"lt\" : \"20190306T191114\",\n",
      "               \"st\" : 0,\n",
      "               \"cnf\" : \"text/plain:0\",\n",
      "               \"cs\" : 13,\n",
      "               \"con\" : \"Hello to all!\"\n",
      "            }\n",
      "         },\n",
      "         \"m2m:to\" : \"admin:admin\",\n",
      "         \"m2m:fr\" : \"/in-cse\"\n",
      "      }, {\n",
      "         \"m2m:rsc\" : 2001,\n",
      "         \"m2m:rqi\" : \"0\",\n",
      "         \"m2m:pc\" : {\n",
      "            \"m2m:cin\" : {\n",
      "               \"rn\" : \"cin_115763447\",\n",
      "               \"ty\" : 4,\n",
      "               \"ri\" : \"/in-cse/cin-115763447\",\n",
      "               \"pi\" : \"/in-cse/cnt-599345609\",\n",
      "               \"ct\" : \"20190306T191114\",\n",
      "               \"lt\" : \"20190306T191114\",\n",
      "               \"st\" : 0,\n",
      "               \"cnf\" : \"text/plain:0\",\n",
      "               \"cs\" : 13,\n",
      "               \"con\" : \"Hello to all!\"\n",
      "            }\n",
      "         },\n",
      "         \"m2m:to\" : \"admin:admin\",\n",
      "         \"m2m:fr\" : \"/in-cse\"\n",
      "      } ]\n",
      "   }\n",
      "}\n"
     ]
    }
   ],
   "source": [
    "headers = {\n",
    "    'X-M2M-Origin' : originator,               # Set the originator\n",
    "    'X-M2M-RI'     : '0',                      # Request identifier\n",
    "    'Accept'       : 'application/json',       # Response shall be JSON\n",
    "    'Content-Type' : 'application/json;ty=4'   # Content is JSON, and represents an <ContentInstance> resource\n",
    "}\n",
    "\n",
    "data = '''\n",
    "{\n",
    "  \"m2m:cin\": {\n",
    "    \"cnf\": \"text/plain:0\",\n",
    "    \"con\": \"Hello to all!\"\n",
    "  }\n",
    "}\n",
    "'''\n",
    "\n",
    "response = requests.post(url + '/myAE/myGroup/fopt', headers=headers, data=data)    # CREATE request\n",
    "printResponse(response)"
   ]
  }
 ],
 "metadata": {
  "kernelspec": {
   "display_name": "Python 3",
   "language": "python",
   "name": "python3"
  },
  "language_info": {
   "codemirror_mode": {
    "name": "ipython",
    "version": 3
   },
   "file_extension": ".py",
   "mimetype": "text/x-python",
   "name": "python",
   "nbconvert_exporter": "python",
   "pygments_lexer": "ipython3",
   "version": "3.7.2"
  }
 },
 "nbformat": 4,
 "nbformat_minor": 2
}
