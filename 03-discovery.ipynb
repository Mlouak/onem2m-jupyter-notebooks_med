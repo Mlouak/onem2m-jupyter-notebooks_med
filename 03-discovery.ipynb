{
 "cells": [
  {
   "cell_type": "markdown",
   "metadata": {},
   "source": [
    "<img style=\"float: right; padding: 10px;\" width=\"200\" src=\"images/logo-onem2m-the-iot-standard.jpg\">\n",
    "\n",
    "\n",
    "# oneM2M - Discovery\n",
    "\n",
    "This notebook shows how resources can be discovered in CSE.\n",
    "\n",
    "Resource discovery can be rather sophisticated. The examples here just show the basic concepts.\n",
    "\n",
    "- Retrieve all &lt;ContentInstance> resources from the CSE\n",
    "- Add a &lt;ContentInstance resource with a label\n",
    "- Discover a &lt;ContentInstance> resource by its label\n",
    "\n",
    "## Intitialization\n",
    "The section does import necessary modules and configurations, and prepares the CSE for this notebook.\n"
   ]
  },
  {
   "cell_type": "code",
   "execution_count": null,
   "metadata": {},
   "outputs": [],
   "source": [
    "%run src/init.py discovery"
   ]
  },
  {
   "cell_type": "markdown",
   "metadata": {},
   "source": [
    "\n",
    "<p>\n",
    "<div  style=\"background-color:transparent;border:2px #005480 solid;padding: 10px;width: calc(100% - 400px);border-radius:10px;\">\n",
    "    <div style=\"color:#005480;\"><b><i class=\"fa fa-info-circle\" aria-hidden=\"true\"></i>&nbsp; Note</b></div>\n",
    "    <div style=\"color:#545054;\">\n",
    "Note that this time more resources are created during the initialization. They are needed for the requests in this notebook.\n",
    "    </div>\n",
    "</div>\n",
    "</p>\n",
    "\n",
    "\n",
    "<img align=\"right\" src=\"images/03/retrieve_contentInstances.png\">\n",
    "\n",
    "## Get all &lt;contentInstance> Resources from a &lt;container> Resource\n",
    "\n",
    "This example demonstrates how one can retrieve references  to all the content instances from the &lt;container> resource.  \n",
    "The prepared resource tree already contains a couple of &lt;contentInstance> resources under the &lt;container>.\n"
   ]
  },
  {
   "cell_type": "code",
   "execution_count": null,
   "metadata": {},
   "outputs": [],
   "source": [
    "RETRIEVE (                                                      # RETRIEVE request\n",
    "\n",
    "    # Retrieve the <container> resource\n",
    "    to                      = cseBaseName + '/Notebook-AE/Container', \n",
    " \n",
    "    # Request Parameters\n",
    "    originator              = 'Cmyself',                        # Set the originator\n",
    "    requestIdentifier       = '123',                            # Unique request identifier\n",
    "    releaseVersionIndicator = '3',                              # Release version indicator\n",
    "    filterUsage             = FilterUsage.conditionalRetrieval, # Do a conditional retrieval request\n",
    "    filterCriteria          = { 'resourceType': Type.ContentInstance },            # Set the filters to resource type = ContentInstance\n",
    "    resultContent           = RCN.childResourceReferences       # Return the result as references to child resources\n",
    ")"
   ]
  },
  {
   "cell_type": "markdown",
   "metadata": {},
   "source": [
    "### Requests & Response Attributes\n",
    "\n",
    "The request and response introduce new attributes:\n",
    "\n",
    "| Attribute       | Short Name | Description                                                                                                                                                                                                            |\n",
    "|:----------------|:-----------|:-----------------------------------------------------------------------------------------------------------------------------------------------------------------------------------------------------------------------|\n",
    "| filterUsage     | fu         | The *filterUsage* request attribute specifies that we actually want to do do a conditional retrieval of the resources.                                                                                                 |\n",
    "| filterCriteria  | fc         | This parameter specifies the filter criteria we want to use during our retrieve.<br>In our example, we want to filter by *resourceType*.                                                                               |\n",
    "| resultContent   | rcn        | This attribute specifies for a request how the result is represented in the response.<br>In our example, we want only the child resources, and only a list of their resource IDs of, and not the resources themselves. |\n",
    "| resourceRefList | rrl        | The result contains a list of structured resource identifiers of the discovered resources and their types.                                                                                                             |\n",
    "| resourceRef     | rrf        | This attribute contains the actual list of structured resource IDs (for our example).                                                                                                                                  |\n",
    "\n",
    "\n",
    "<img align=\"right\" src=\"images/03/create_contentInstanceLabel.png\">\n",
    "\n",
    "\n",
    "## Add a &lt;contentInstance> Resource with a Label\n",
    "\n",
    "The next example introduces labels. Every resource may have a space separated list of labels.  \n",
    "A label can either be a a tag or keyword, or has a key and a value, and can be used as application defined meta-data for that resource.\n",
    "\n",
    "With the following CREATE request we create a &lt;contentInstance> that also contains the label *tag:greeting*.\n",
    "\n"
   ]
  },
  {
   "cell_type": "code",
   "execution_count": null,
   "metadata": {},
   "outputs": [],
   "source": [
    "CREATE (                                             # CREATE request\n",
    "    \n",
    "    # Add the <contentInstance> under the <container>\n",
    "    to                      = cseBaseName + '/Notebook-AE/Container',\n",
    "    \n",
    "    # Request Parameters\n",
    "    originator              = 'Cmyself',             # Set the originator\n",
    "    requestIdentifier       = '123',                 # Unique request identifier\n",
    "    releaseVersionIndicator = '3',                   # Release version indicator\n",
    "    resourceType            = Type.ContentInstance,  # Type of the resource\n",
    "    \n",
    "    # Request Body\n",
    "    primitiveContent = \n",
    "        {   \n",
    "            'm2m:ContentInstance': {\n",
    "                'resourceName':  'CINwithLabel',     # Name of the resource\n",
    "                'labels': [ 'tag:greeting' ],        # Assign a label\n",
    "                'contentInfo': 'text/plain:0',       # Media type of the content\n",
    "                'content': 'Hello, World!'           # The content itself\n",
    "            }\n",
    "        }\n",
    ")"
   ]
  },
  {
   "cell_type": "markdown",
   "metadata": {},
   "source": [
    "The new &lt;contentInstance> should be the last in the above resource structure under the &lt;container>.\n",
    "\n",
    "### Requests & Response Attributes\n",
    "\n",
    "The request and response introduce new attributes:\n",
    "\n",
    "| Attribute            | Short Name | Description                                                                                             |\n",
    "|:---------------------|:-----------|:--------------------------------------------------------------------------------------------------------|\n",
    "| labels | lbl |The *labels* attribute specifies a list of labels or tags for a resource. A label may contain meta-data provided by an application. |\n",
    "\n",
    "\n",
    "\n",
    "<img align=\"right\" src=\"images/03/retrieve_contentInstanceLabel.png\">\n",
    "\n",
    "\n",
    "## Discover &lt;contentInstance> Resources by a Label\n",
    "\n",
    "Discovery also works with labels, so that an application can retrieve the resources by their meta-data. For this we add the *lbl*  attribute to the paremeter list.  \n",
    "Also, this time we want to get the full resources and not only their references. For this we change the *rcn* parameter to the value of *childResources* (8)."
   ]
  },
  {
   "cell_type": "code",
   "execution_count": null,
   "metadata": {},
   "outputs": [],
   "source": [
    "RETRIEVE (                                                      # RETRIEVE request\n",
    "\n",
    "    # Discover the <contentInstance> under the <container> via its label\n",
    "    to                      = cseBaseName + '/Notebook-AE/Container', \n",
    "\n",
    "    # Request Parameters\n",
    "    originator              = 'Cmyself',                        # Set the originator\n",
    "    requestIdentifier       = '123',                            # Unique request identifier\n",
    "    releaseVersionIndicator = '3',                              # Release version indicator\n",
    "    filterUsage             = FilterUsage.conditionalRetrieval, # Do a conditional retrieval request\n",
    "    filterCriteria          = { 'lbl': [ 'tag:greeting' ] },    # Set the filters to the label, which may contain many entries\n",
    "    resultContent           = RCN.childResources                # Return the child resources in the result\n",
    ")"
   ]
  },
  {
   "cell_type": "markdown",
   "metadata": {},
   "source": [
    "\n",
    "<p>\n",
    "<div style=\"background-color:transparent;border:2px #b42025 solid;padding: 10px;width: calc(100% - 400px);border-radius:10px;\">\n",
    "    <div style=\"color:#b42025;\"><b><i class=\"fa fa-info-circle\" aria-hidden=\"true\"></i>&nbsp; oneM2M</b></div>\n",
    "    <div style=\"color:#545054;\">\n",
    "    The structure that is returned starts with <i>m2m:cnt</i> because we target the parent &lt;container>. The found child resources, the &lt;contentInstances>, are then returned in a list <i>m2m:cin</i>.\n",
    "    </div>\n",
    "</div>\n",
    "</p>"
   ]
  }
 ],
 "metadata": {
  "kernelspec": {
   "display_name": "Python 3 (ipykernel)",
   "language": "python",
   "name": "python3"
  },
  "language_info": {
   "codemirror_mode": {
    "name": "ipython",
    "version": 3
   },
   "file_extension": ".py",
   "mimetype": "text/x-python",
   "name": "python",
   "nbconvert_exporter": "python",
   "pygments_lexer": "ipython3",
   "version": "3.9.10"
  }
 },
 "nbformat": 4,
 "nbformat_minor": 4
}
