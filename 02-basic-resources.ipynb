{
 "cells": [
  {
   "cell_type": "markdown",
   "metadata": {
    "slideshow": {
     "slide_type": "slide"
    }
   },
   "source": [
    "<img style=\"float: right; padding: 10px;\" width=\"200\" src=\"images/logo-onem2m-the-iot-standard.jpg\">\n",
    "\n",
    "# oneM2M - Basic Resources and Requests\n",
    "This notebook shows the basic interactions with a CSE using REST calls. Examples include:\n",
    "\n",
    "- Create an &lt;AE> resource\n",
    "- Create a &lt;container> resource\n",
    "- Create one or more &lt;contentInstance> resources\n",
    "- Retrieve the latest &lt;contentInstance> resource\n",
    "- Update the &lt;container> resource\n",
    "- Retrieve the &lt;container> resource\n",
    "- Delete the &lt;container> resource\n",
    "\n",
    "\n",
    "## Intitialization\n",
    "The section does import necessary modules and configurations, and prepares the CSE for this notebook."
   ]
  },
  {
   "cell_type": "code",
   "execution_count": null,
   "metadata": {
    "slideshow": {
     "slide_type": "slide"
    },
    "tags": []
   },
   "outputs": [],
   "source": [
    "%run src/init.py basic"
   ]
  },
  {
   "cell_type": "markdown",
   "metadata": {
    "slideshow": {
     "slide_type": "slide"
    },
    "tags": []
   },
   "source": [
    "## Register an &lt;AE> Resource\n",
    "\n",
    "<img align=\"right\" src=\"images/02/register_AE.png\">\n",
    "\n",
    "\n",
    "This example creates a new &lt;AE> resource in the CSE. &lt;AE>'s represent applications or services.\n",
    "\n",
    "Creating this (or other) resource is done using a POST request and with providing a couple of mandatory attributes:\n",
    "\n",
    "- **api** : Application Identifier. An Application Identifier uniquely identifies an M2M Application in a given context.\n",
    "- **rr** : Request Reachability. This attribute indicates whether a resource can receive requests.\n",
    "- **srv** : Supported Release Versions. An array that specifies the supported oneM2M specification releases.\n",
    "\n",
    " \n",
    "<p>\n",
    "<div style=\"background-color:transparent;border:2px #b42025 solid;padding: 10px;width: calc(100% - 350px);\">\n",
    "    <div style=\"color:#b42025;\"><b><i class=\"fa fa-info-circle\" aria-hidden=\"true\"></i>&nbsp; oneM2M</b></div>\n",
    "    <div style=\"color:#545054;\">\n",
    "        The request target is the &lt;CSEBase> resource. All create requests target a parent resource.\n",
    "    </div>\n",
    "</div>\n",
    "</p>\n",
    "\n"
   ]
  },
  {
   "cell_type": "code",
   "execution_count": null,
   "metadata": {
    "slideshow": {
     "slide_type": "slide"
    },
    "tags": []
   },
   "outputs": [],
   "source": [
    "CREATE (                                                     # CREATE request\n",
    "    \n",
    "    # Create the AE resource under the CSEBase\n",
    "    to                      = cseBaseName,  \n",
    "    \n",
    "    # Request Parameters\n",
    "    originator              = 'Cmyself',                     # Assign an originator ID, must start with 'C'\n",
    "    requestIdentifier       = '123',                         # Unique request identifier\n",
    "    releaseVersionIndicator = '3',                           # Release version indicator\n",
    "    resourceType            = Type.AE,                       # Type of the resource: AE\n",
    "    \n",
    "    # Request Body\n",
    "    primitiveContent = \n",
    "        {   \n",
    "            'm2m:ApplicationEntity': {\n",
    "                'resourceName':             'Notebook-AE',   # Name of the resource \n",
    "                'App-ID':                   'NnotebookAE',   # Application ID, must start with 'N'\n",
    "                'requestReachability':      True,            # AE can receive requests\n",
    "                'supportedReleaseVersions': [ '3' ]          # Supports oneM2M release 3\n",
    "            }\n",
    "        }\n",
    ")"
   ]
  },
  {
   "cell_type": "markdown",
   "metadata": {},
   "source": [
    "The response introduces some new attributes:\n",
    "\n",
    "- **pi** : This is the identifier of the parent resource.\n",
    "- **et** : Expiration time/date after which the CSE will delete the resource.\n",
    "- **aei** : An Application Entity Identifier uniquely identifies an AE globally.\n",
    "\n",
    "<img align=\"right\" src=\"images/02/create_container.png\">\n",
    "\n",
    "## Create a &lt;container> Resource\n",
    "In this section we add a &lt;container> resource to the &lt;AE> resource. A &lt;container> represents a structure in the oneM2M resource tree that can have a configurable number of data instances as child resources. A &lt;container> may also have sub-containers.\n",
    "\n",
    "If created with no further attributes, the CSE will assign meaningful defaults to the &lt;container> resource's attributes."
   ]
  },
  {
   "cell_type": "code",
   "execution_count": null,
   "metadata": {},
   "outputs": [],
   "source": [
    "CREATE (                                      # CREATE request\n",
    "    \n",
    "    # Create the container resource under the AE\n",
    "    to                      = cseBaseName + '/Notebook-AE', \n",
    "\n",
    "    # Request Parameters\n",
    "    originator              = 'Cmyself',      # Set the originator\n",
    "    requestIdentifier       = '123',          # Unique request identifier\n",
    "    releaseVersionIndicator = '3',            # Release version indicator\n",
    "    resourceType            = Type.Container, # Type of the resource: container\n",
    "    \n",
    "    # Request Body\n",
    "    primitiveContent = \n",
    "        {\n",
    "            'm2m:Container': {\n",
    "                'resourceName': 'Container'   # Set the resource name\n",
    "            }\n",
    "        }\n",
    ")"
   ]
  },
  {
   "cell_type": "markdown",
   "metadata": {},
   "source": [
    "\n",
    "<p>\n",
    "<div  style=\"background-color:transparent;border:2px #005480 solid;padding: 10px;width: calc(100% - 350px)\">\n",
    "    <div style=\"color:#005480;\"><b><i class=\"fa fa-info-circle\" aria-hidden=\"true\"></i>&nbsp; Note</b></div>\n",
    "    <div style=\"color:#545054;\">\n",
    "        If you see an error \"409\" or \"Name already present\" then don't worry. It just means that an &lt;container> resource with the same name already exists in the CSE, perhaps from a previous run of this notebook cell.    \n",
    "    </div>\n",
    "</div>\n",
    "</p>\n",
    "\n",
    "The following attributes are used with the &lt;Container> resource:\n",
    "\n",
    "- **st** : The State Tag is incremented every time the resource is modified.\n",
    "- **mni** : Maximum number of direct data instances in the &lt;Container> resource.\n",
    "- **mbs** : Maximum size in bytes of data.\n",
    "- **mia** : Maximum age of a direct data instances in the &lt;Container> resource.\n",
    "- **cni** : Current number of direct data instances in the &lt;Container> resource.\n",
    "- **cbs** : Current size in bytes of data.\n",
    "- **ol** : Resource identifier of a virtual resource that points to the oldest data instance of the &lt;Container> resource.\n",
    "- **la** : Resource identifier of a virtual resource that points to the latest data instance of the &lt;Container> resource.\n",
    "\n",
    "<p>\n",
    "<div style=\"background-color:transparent;border:2px #b42025 solid;padding: 10px;width: calc(100% - 350px);\">\n",
    "    <div style=\"color:#b42025;\"><b><i class=\"fa fa-info-circle\" aria-hidden=\"true\"></i>&nbsp; oneM2M</b></div>\n",
    "    <div style=\"color:#545054;\">\n",
    "        A &lt;container> has two virtual child resources, <i>latest</i> (la) and <i>oldest</i> (ol), which virtually represent the latest and oldest &lt;contentInstance> resources, respectively.\n",
    "    </div>\n",
    "</div>\n",
    "</p>\n",
    "\n",
    "## Add a &lt;contentInstance> to the &lt;container>\n",
    "\n",
    "<img align=\"right\" src=\"images/02/create_contentInstance.png\">\n",
    "\n",
    "Now, we add some data to the *myContainer* &lt;container>. \n",
    "\n",
    "These attributes are part of the request:\n",
    "\n",
    "- **cnf** : This specifies the content format. It specifies the media type as well as an encoding type.\n",
    "- **con** : This is the actual content (ie. the value) that will be stored in the &lt;Container resource. It must contain media information and may optionally specify an optional content encoding (here 0 means \"plain, no transfer encoding\"), and content security.\n",
    "\n",
    "&lt;contentInstance> resources can only be added and read, but not updated or deleted.\n",
    "\n",
    "\n",
    "<p>\n",
    "<div style=\"background-color:transparent;border:2px #b42025 solid;padding: 10px;width: calc(100% - 350px);\">\n",
    "    <div style=\"color:#b42025;\"><b><i class=\"fa fa-info-circle\" aria-hidden=\"true\"></i>&nbsp; oneM2M</b></div>\n",
    "    <div style=\"color:#545054;\">\n",
    "In the following request we don't provide a resource. Instead, the CSE provides one for the newly created resource.\n",
    "    </div>\n",
    "</div>\n",
    "</p>\n",
    "\n",
    "<p>\n",
    "<div  style=\"background-color:transparent;border:2px #005480 solid;padding: 10px;width: calc(100% - 350px)\">\n",
    "    <div style=\"color:#005480;\"><b><i class=\"fa fa-info-circle\" aria-hidden=\"true\"></i>&nbsp; Note</b></div>\n",
    "    <div style=\"color:#545054;\">\n",
    "        You can execute the following code as often as you like to create more &lt;contentInstance> resources.\n",
    "    </div>\n",
    "</div>\n",
    "</p>\n"
   ]
  },
  {
   "cell_type": "code",
   "execution_count": null,
   "metadata": {},
   "outputs": [],
   "source": [
    "CREATE (                                            # CREATE request\n",
    "\n",
    "    # Create the content instance resource under the container\n",
    "    to                      = cseBaseName + '/Notebook-AE/Container', \n",
    "\n",
    "    # Request Parameters\n",
    "    originator              = 'Cmyself',            # Set the originator\n",
    "    requestIdentifier       = '123',                # Unique request identifier\n",
    "    releaseVersionIndicator = '3',                  # Release version indicator\n",
    "    resourceType            = Type.ContentInstance, # Type of the resource: contentInstance\n",
    "    \n",
    "    # Request Body\n",
    "    primitiveContent = \n",
    "        {\n",
    "            'm2m:ContentInstance': {\n",
    "                'contentInfo': 'text/plain:0',      # Media type of the content\n",
    "                'content': 'Hello, World!'          # The content itself\n",
    "            }\n",
    "        }\n",
    ")"
   ]
  },
  {
   "cell_type": "markdown",
   "metadata": {},
   "source": [
    "A new attribute:\n",
    "\n",
    "- **cs** : This attribute contains the size of the content of the **con** attribute.\n",
    "\n",
    "<img align=\"right\" src=\"images/02/retrieve_contentInstance.png\">\n",
    "\n",
    "\n",
    "## Retrieve the latest created &lt;contentInstance> resource\n",
    "This request will retrieve the latest data instance from the &lt;container>.\n",
    "\n",
    "<p>\n",
    "<div style=\"background-color:transparent;border:2px #b42025 solid;padding: 10px;width: calc(100% - 350px);\">\n",
    "    <div style=\"color:#b42025;\"><b><i class=\"fa fa-info-circle\" aria-hidden=\"true\"></i>&nbsp; oneM2M</b></div>\n",
    "    <div style=\"color:#545054;\">\n",
    "        The <em>resourceType</em> attribute is not necessary to provide in RETRIEVE requests, only in CREATE.\n",
    "    </div>\n",
    "</div>\n",
    "</p>\n",
    " "
   ]
  },
  {
   "cell_type": "code",
   "execution_count": null,
   "metadata": {},
   "outputs": [],
   "source": [
    "RETRIEVE (                                          # RETRIEVE request\n",
    "\n",
    "    # Retrieve the latest <contentInstance> resource under the container\n",
    "    to                      = cseBaseName + '/Notebook-AE/Container/la', \n",
    "\n",
    "    # Request Parameters\n",
    "    originator              = 'Cmyself',            # Set the originator\n",
    "    requestIdentifier       = '123',                # Unique request identifier\n",
    "    releaseVersionIndicator = '3',                  # Release version indicator\n",
    ")"
   ]
  },
  {
   "cell_type": "markdown",
   "metadata": {},
   "source": [
    "<img align=\"right\" src=\"images/02/update_container.png\">\n",
    "\n",
    "\n",
    "## Update the &lt;container> Resource\n",
    "\n",
    "With this request we will set the *maxNumberOfInstances* (**mni**) attribute to a new value. This will restrict the number of &lt;contentInstance> resources for this &lt;container>.\n",
    " \n",
    "<p>\n",
    "<div style=\"background-color:transparent;border:2px #b42025 solid;padding: 10px;width: calc(100% - 350px);\">\n",
    "    <div style=\"color:#b42025;\"><b><i class=\"fa fa-info-circle\" aria-hidden=\"true\"></i>&nbsp; oneM2M</b></div>\n",
    "    <div style=\"color:#545054;\">\n",
    "        It is only necessary to provide the attributes we want to update in the request, not the whole resource.\n",
    "    </div>\n",
    "</div>\n",
    "</p>\n"
   ]
  },
  {
   "cell_type": "code",
   "execution_count": null,
   "metadata": {},
   "outputs": [],
   "source": [
    "UPDATE (                                            # UPDATE request\n",
    "\n",
    "    # Target the container resource\n",
    "    to                      = cseBaseName + '/Notebook-AE/Container', \n",
    "\n",
    "    # Request Parameters\n",
    "    originator              = 'Cmyself',            # Set the originator\n",
    "    requestIdentifier       = '123',                # Unique request identifier\n",
    "    releaseVersionIndicator = '3',                  # Release version indicator\n",
    "    \n",
    "    # Request Body\n",
    "    primitiveContent = \n",
    "        {\n",
    "            'm2m:Container': {\n",
    "                 'maxNrOfInstances': 10            # Set the maxNumberOfInstances to 10\n",
    "            }\n",
    "        }\n",
    ")"
   ]
  },
  {
   "cell_type": "markdown",
   "metadata": {},
   "source": [
    "The CSE returns the resource. \n",
    "\n",
    " \n",
    "<p>\n",
    "<div style=\"background-color:transparent;border:2px #b42025 solid;padding: 10px;width: calc(100% - 350px);\">\n",
    "    <div style=\"color:#b42025;\"><b><i class=\"fa fa-info-circle\" aria-hidden=\"true\"></i>&nbsp; oneM2M</b></div>\n",
    "    <div style=\"color:#545054;\">\n",
    "    Also note the change of the <i>lastModificationTime</i> (lt) attribute. It is set to the time of the update.\n",
    "    </div>\n",
    "</div>\n",
    "</p>\n",
    " \n",
    " \n",
    "\n",
    "\n",
    "<img align=\"right\" src=\"images/02/retrieve_container.png\">\n",
    "\n",
    "## Retrieve the &lt;container> Resource\n",
    "Retrieve the &lt;container> resource to see all the changes and its current state."
   ]
  },
  {
   "cell_type": "code",
   "execution_count": null,
   "metadata": {},
   "outputs": [],
   "source": [
    "RETRIEVE (                                          # RETRIEVE request\n",
    "\n",
    "    # Retrieve the container resource\n",
    "    to                      = cseBaseName + '/Notebook-AE/Container', \n",
    "\n",
    "    # Request Parameters\n",
    "    originator              = 'Cmyself',            # Set the originator\n",
    "    requestIdentifier       = '123',                # Unique request identifier\n",
    "    releaseVersionIndicator = '3',                  # Release version indicator\n",
    ")"
   ]
  },
  {
   "cell_type": "markdown",
   "metadata": {},
   "source": [
    "The CSE returns the resource.\n",
    "\n",
    "<img align=\"right\" src=\"images/02/delete_container.png\">\n",
    "\n",
    "## Delete the &lt;container Resource\n",
    "\n",
    "The last request in this lecture removes the &lt;container> resource from the CSE's oneM2M resource tree.\n"
   ]
  },
  {
   "cell_type": "code",
   "execution_count": null,
   "metadata": {},
   "outputs": [],
   "source": [
    "DELETE (                                            # DELETE request\n",
    "\n",
    "    # Delete the container resource\n",
    "    to                      = cseBaseName + '/Notebook-AE/Container', \n",
    "\n",
    "    # Request Parameters\n",
    "    originator              = 'Cmyself',            # Set the originator\n",
    "    requestIdentifier       = '123',                # Unique request identifier\n",
    "    releaseVersionIndicator = '3',                  # Release version indicator\n",
    ")"
   ]
  },
  {
   "cell_type": "markdown",
   "metadata": {},
   "source": [
    " <p>\n",
    "<div style=\"background-color:transparent;border:2px #b42025 solid;padding: 10px;width: calc(100% - 350px);\">\n",
    "    <div style=\"color:#b42025;\"><b><i class=\"fa fa-info-circle\" aria-hidden=\"true\"></i>&nbsp; oneM2M</b></div>\n",
    "    <div style=\"color:#545054;\">\n",
    "When a resource is deleted then all its child resources, for example the &lt;contentInstance> resources in our exercise, are deleted as well.\n",
    "    </div>\n",
    "</div>\n",
    "</p>"
   ]
  }
 ],
 "metadata": {
  "kernelspec": {
   "display_name": "Python 3 (ipykernel)",
   "language": "python",
   "name": "python3"
  },
  "language_info": {
   "codemirror_mode": {
    "name": "ipython",
    "version": 3
   },
   "file_extension": ".py",
   "mimetype": "text/x-python",
   "name": "python",
   "nbconvert_exporter": "python",
   "pygments_lexer": "ipython3",
   "version": "3.8.2"
  }
 },
 "nbformat": 4,
 "nbformat_minor": 4
}
