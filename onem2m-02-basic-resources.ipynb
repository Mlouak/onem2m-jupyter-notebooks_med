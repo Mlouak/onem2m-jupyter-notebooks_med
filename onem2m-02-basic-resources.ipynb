{
 "cells": [
  {
   "cell_type": "markdown",
   "metadata": {},
   "source": [
    "# oneM2M - Basic Resources and Interactions\n",
    "This notebook shows the basic interactions with a CSE using REST calls. Examples include:\n",
    "\n",
    "- Create an &lt;AE> resource\n",
    "- Create a &lt;Container> resource\n",
    "- Create one or more &lt;ContentInstance> resources\n",
    "- Retrieve the latest &lt;ContentInstance> resource\n",
    "- Update the &lt;Container> resource\n",
    "- Retrieve the &lt;Container> resource\n",
    "\n",
    "## Intitialization\n",
    "The section does import necessary modules and configurations."
   ]
  },
  {
   "cell_type": "code",
   "execution_count": null,
   "metadata": {},
   "outputs": [],
   "source": [
    "from init import *"
   ]
  },
  {
   "cell_type": "markdown",
   "metadata": {},
   "source": [
    "## Create an &lt;AE> Resource\n",
    "This example creates a new &lt;AE> resource in the CSE. &lt;AE>'s represent applications or services.\n",
    "\n",
    "Creating this (or other) resource is done using a POST request and with providing a couple of mandatory attributes:\n",
    "\n",
    "- **api** : Application Identifier. An Application Identifier uniquely identifies an M2M Application in a given context.\n",
    "- **rr** : Request Reachability. This attribute indicates whether a resource can receive requests.\n",
    "\n",
    "Note, that the request target is the &lt;CSEBase> resource. All create requests target a parent resource."
   ]
  },
  {
   "cell_type": "code",
   "execution_count": null,
   "metadata": {},
   "outputs": [],
   "source": [
    "headers = {\n",
    "    'X-M2M-Origin' : originator,               # Set the originator\n",
    "    'X-M2M-RI'     : '0',                      # Request identifier\n",
    "    'Accept'       : 'application/json',       # Response shall be JSON\n",
    "    'Content-Type' : 'application/json;ty=2'   # Content is JSON, and represents an <AE> resource\n",
    "}\n",
    "\n",
    "data = '''\n",
    "{\n",
    "  \"m2m:ae\": {\n",
    "    \"rn\": \"myAE\",\n",
    "    \"api\": \"AE\",\n",
    "    \"rr\": true\n",
    "  }\n",
    "}\n",
    "'''\n",
    "\n",
    "response = requests.post(url, headers=headers, data=data)    # CREATE request\n",
    "printResponse(response)"
   ]
  },
  {
   "cell_type": "markdown",
   "metadata": {},
   "source": [
    "The response introduces some new attributes:\n",
    "\n",
    "- **pi** : This is the identifier of the parent resource.\n",
    "- **et** : Expiration time/date after which the CSE will delete the resource.\n",
    "- **aei** : An Application Entity Identifier uniquely identifies an AE globally.\n",
    "\n",
    "**Note**: If you see an error \"409\" then don't worry. It just means that an &lt;AE> resource with the same name already exists in the CSE, perhaps from a previous run of this notebook cell.\n",
    "\n",
    "## Create a &lt;Container> Resource\n",
    "In this section we add a &lt;Container> resource to the &lt;AE> resource. A &lt;Container> represents a data point that can hold a configurable number of dsta instances. A &lt;Container> may also hold a sub-containers.\n",
    "\n",
    "If created with no further attributes, the CSE will assign defaults to the &lt;Container> resource."
   ]
  },
  {
   "cell_type": "code",
   "execution_count": null,
   "metadata": {
    "scrolled": false
   },
   "outputs": [],
   "source": [
    "headers = {\n",
    "    'X-M2M-Origin' : originator,               # Set the originator\n",
    "    'X-M2M-RI'     : '0',                      # Request identifier\n",
    "    'Accept'       : 'application/json',       # Response shall be JSON\n",
    "    'Content-Type' : 'application/json;ty=3'   # Content is JSON, and represents an <Container> resource\n",
    "}\n",
    "\n",
    "data = '''\n",
    "{\n",
    "  \"m2m:cnt\": {\n",
    "    \"rn\":\"myContainer\"\n",
    "  }\n",
    "}\n",
    "'''\n",
    "\n",
    "response = requests.post(url + '/myAE', headers=headers, data=data)    # CREATE request\n",
    "printResponse(response)"
   ]
  },
  {
   "cell_type": "markdown",
   "metadata": {},
   "source": [
    "The following attributes are used with the &lt;Container> resource:\n",
    "\n",
    "- **st** : The State Tag is incremented every time the resource is modified.\n",
    "- **mni** : Maximum number of direct data instances in the &lt;Container> resource.\n",
    "- **mbs** : Maximum size in bytes of data.\n",
    "- **mia** : Maximum age of a direct data instances in the &lt;Container> resource.\n",
    "- **cni** : Current number of direct data instances in the &lt;Container> resource.\n",
    "- **cbs** : Current size in bytes of data.\n",
    "- **ol** : Resource identifier of a virtual resource that points to the oldest data instance of the &lt;Container> resource.\n",
    "- **la** : Resource identifier of a virtual resource that points to the latest data instance of the &lt;Container> resource.\n",
    "\n",
    "**Note**: If you see an error \"409\" then don't worry. It just means that an &lt;Container> resource with the same name already exists in the CSE, perhaps from a previous run of this notebook cell.\n",
    "\n",
    "## Add a &lt;ContentInstance> to the &lt;Container>\n",
    "\n",
    "Now, we add an actual value to the *myContainer* &lt;Container>. \n",
    "\n",
    "These attributes are part of the request:\n",
    "\n",
    "- **cnf** : This specifies the content format. It specifies the media type as well as an encoding type.\n",
    "- **con** : This is the actual content (ie. the value) that will be stored in the &lt;Container resource.\n",
    "\n",
    "&lt;ContentInstance>'s can only be added and read, but not updated or deleted.\n",
    "\n",
    "**Note**: You can execute the following code as often as you like in order to create more &lt;ContentInstance> resources."
   ]
  },
  {
   "cell_type": "code",
   "execution_count": null,
   "metadata": {
    "scrolled": false
   },
   "outputs": [],
   "source": [
    "headers = {\n",
    "    'X-M2M-Origin' : originator,               # Set the originator\n",
    "    'X-M2M-RI'     : '0',                      # Request identifier\n",
    "    'Accept'       : 'application/json',       # Response shall be JSON\n",
    "    'Content-Type' : 'application/json;ty=4'   # Content is JSON, and represents an <ContentInstance> resource\n",
    "}\n",
    "\n",
    "data = '''\n",
    "{\n",
    "  \"m2m:cin\": {\n",
    "    \"cnf\": \"text/plain:0\",\n",
    "    \"con\": \"Hello, World!\"\n",
    "  }\n",
    "}\n",
    "'''\n",
    "\n",
    "response = requests.post(url + '/myAE/myContainer', headers=headers, data=data)    # CREATE request\n",
    "printResponse(response)"
   ]
  },
  {
   "cell_type": "markdown",
   "metadata": {},
   "source": [
    "A new attribute:\n",
    "\n",
    "- **cs** : This attribute contains the size of the content of the **con** attribute.\n",
    "\n",
    "## Retrieve the latest &lt;ContentInstance> resource\n",
    "This request will retrieve the latest data instance from the &lt;Container>."
   ]
  },
  {
   "cell_type": "code",
   "execution_count": null,
   "metadata": {
    "scrolled": false
   },
   "outputs": [],
   "source": [
    "headers = {\n",
    "    'X-M2M-Origin' : originator,               # Set the originator\n",
    "    'X-M2M-RI'     : '0',                      # Request identifier\n",
    "    'Accept'       : 'application/json',       # Response shall be JSON\n",
    "    'Content-Type' : 'application/json;ty=4'   # Content is JSON, and represents an <ContentInstance> resource\n",
    "}\n",
    "\n",
    "response = requests.get(url + '/myAE/myContainer/la', headers=headers)    # READ request\n",
    "printResponse(response)"
   ]
  },
  {
   "cell_type": "markdown",
   "metadata": {},
   "source": [
    "## Update the &lt;Container Resource\n",
    "\n",
    "With this request we will set the *MinimumNumberOfInstances* (mni) attribute to a new value."
   ]
  },
  {
   "cell_type": "code",
   "execution_count": null,
   "metadata": {
    "scrolled": false
   },
   "outputs": [],
   "source": [
    "headers = {\n",
    "    'X-M2M-Origin' : originator,               # Set the originator\n",
    "    'X-M2M-RI'     : '0',                      # Request identifier\n",
    "    'Accept'       : 'application/json',       # Response shall be JSON\n",
    "    'Content-Type' : 'application/json;ty=3'   # Content is JSON, and represents an <Container> resource\n",
    "}\n",
    "\n",
    "data = '''\n",
    "{\n",
    "  \"m2m:cnt\": {\n",
    "    \"mni\": 1000\n",
    "  }\n",
    "}\n",
    "'''\n",
    "\n",
    "response = requests.put(url + '/myAE/myContainer', headers=headers, data=data)    # UPDATE request\n",
    "printResponse(response)"
   ]
  },
  {
   "cell_type": "markdown",
   "metadata": {},
   "source": [
    "The CSE returns the updated attributes of the resource. Also note the change of the *lastModificationTime* (lt) and *status* (st) attributes.\n",
    "\n",
    "## Check the &lt;Container> resource\n",
    "Retrieve the &lt;Container> resource to see all the changes and its current state."
   ]
  },
  {
   "cell_type": "code",
   "execution_count": null,
   "metadata": {
    "scrolled": false
   },
   "outputs": [],
   "source": [
    "headers = {\n",
    "    'X-M2M-Origin' : originator,               # Set the originator\n",
    "    'X-M2M-RI'     : '0',                      # Request identifier\n",
    "    'Accept'       : 'application/json',       # Response shall be JSON\n",
    "    'Content-Type' : 'application/json;ty=3'   # Content is JSON, and represents an <Container> resource\n",
    "}\n",
    "\n",
    "response = requests.get(url + '/myAE/myContainer', headers=headers)    # READ request\n",
    "printResponse(response)"
   ]
  }
 ],
 "metadata": {
  "kernelspec": {
   "display_name": "Python 3",
   "language": "python",
   "name": "python3"
  },
  "language_info": {
   "codemirror_mode": {
    "name": "ipython",
    "version": 3
   },
   "file_extension": ".py",
   "mimetype": "text/x-python",
   "name": "python",
   "nbconvert_exporter": "python",
   "pygments_lexer": "ipython3",
   "version": "3.6.5"
  }
 },
 "nbformat": 4,
 "nbformat_minor": 2
}
