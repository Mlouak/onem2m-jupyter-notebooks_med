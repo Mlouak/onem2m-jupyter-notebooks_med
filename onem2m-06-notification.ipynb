{
 "cells": [
  {
   "cell_type": "markdown",
   "metadata": {},
   "source": [
    "# oneM2M - Subscriptions and Notifications\n",
    "\n",
    "This notebook demonstrates how to subscribe to notifications from resources.\n",
    "\n",
    "- Setup and run a notification server\n",
    "- Create a &lt;Subscription> resource\n",
    "- \n",
    "\n",
    "## Intitialization\n",
    "The section does import necessary modules and configurations."
   ]
  },
  {
   "cell_type": "code",
   "execution_count": 1,
   "metadata": {},
   "outputs": [],
   "source": [
    "from init import *\n",
    "from http.server import HTTPServer, BaseHTTPRequestHandler"
   ]
  },
  {
   "cell_type": "markdown",
   "metadata": {},
   "source": [
    "## Setup and Run a Notification Server\n",
    "\n",
    "In order to subscribe to notifications one must run a notification server that receives two kind of requests:\n",
    "\n",
    "- Whenever a new &lt;Subscription> is created a verification request is send to the notification server to check the validity of the subscription.\n",
    "- For every monitored change of a resource the server is contacted and the changes are pushed to the notification server.\n",
    "\n",
    "For a simple implementation (always acknowledge the requests described above), the notification server must set the response header field *X-M2M-RSC* to *2000*.\n"
   ]
  },
  {
   "cell_type": "code",
   "execution_count": null,
   "metadata": {},
   "outputs": [
    {
     "name": "stdout",
     "output_type": "stream",
     "text": [
      "========== starting server & waiting for connections ==========\n"
     ]
    }
   ],
   "source": [
    "class SimpleHTTPRequestHandler(BaseHTTPRequestHandler):\n",
    "        \n",
    "    def do_POST(self):\n",
    "        # Construct return header\n",
    "        self.send_response(200)\n",
    "        self.send_header('X-M2M-RSC', '2000')\n",
    "        self.end_headers()\n",
    "\n",
    "        # Get headers and content data\n",
    "        length = int(self.headers['Content-Length'])\n",
    "        contentType = self.headers['Content-Type']\n",
    "        post_data = self.rfile.read(length)\n",
    "        \n",
    "        # Print the content data\n",
    "        print('========== Notification ==========')\n",
    "        print(post_data)\n",
    "\n",
    "\n",
    "\n",
    "httpd = HTTPServer(('', notificationPort), SimpleHTTPRequestHandler)\n",
    "print('========== starting server & waiting for connections ==========')\n",
    "httpd.serve_forever()"
   ]
  },
  {
   "cell_type": "markdown",
   "metadata": {},
   "source": [
    "## Subscribe to a &lt;Container> Resource\n",
    "\n",
    "???\n",
    "\n"
   ]
  },
  {
   "cell_type": "code",
   "execution_count": null,
   "metadata": {},
   "outputs": [],
   "source": [
    "headers = {\n",
    "    'X-M2M-Origin' : originator,               # Set the originator\n",
    "    'X-M2M-RI'     : '0',                      # Request identifier\n",
    "    'Accept'       : 'application/json',       # Response shall be JSON\n",
    "    'Content-Type' : 'application/json;ty=1'   # Content is JSON, and represents an <ACP> resource\n",
    "}\n",
    "\n",
    "data = '''\n",
    "\n",
    "\n",
    "\n",
    "\n",
    "\n",
    "\n",
    "\n",
    "<?xml version=\"1.0\" encoding=\"UTF-8\"?>\n",
    "<m2m:sub xmlns:m2m=\"http://www.onem2m.org/xml/protocols\" rn=\"Sensor_{{DeviceID}}_SUBSCRIPTION\">\n",
    "\t<nu>http://localhost:1400/monitor</nu>\n",
    "\t<nct>2</nct>\n",
    "\t<exc>10</exc>\n",
    "</m2m:sub>\n",
    "\n",
    "\n",
    "'''\n",
    "\n",
    "response = requests.post(url, headers=headers, data=data)    # CREATE request\n",
    "printResponse(response)"
   ]
  }
 ],
 "metadata": {
  "kernelspec": {
   "display_name": "Python 3",
   "language": "python",
   "name": "python3"
  }
 },
 "nbformat": 4,
 "nbformat_minor": 2
}
