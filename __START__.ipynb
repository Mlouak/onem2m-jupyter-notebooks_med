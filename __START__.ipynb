{
 "cells": [
  {
   "cell_type": "markdown",
   "metadata": {},
   "source": [
    "# oneM2M Jupyter Notebooks\n",
    "\n",
    "\n",
    "## CSE & Notification Server Notebooks\n",
    "\n",
    "#### CSE\n",
    "- [start-cse.ipynb](start-cse.ipynb)  \n",
    "This notebook runs a local CSE inside the a Jupyter notebooks. It is required for all the examples in the notebooks.  \n",
    "<mark><font color=\"green\">**Run this notebook first.**</font></mark>\n",
    "- [http://localhost:8080/webui](http://localhost:8080/webui/index.html?ri=id-in&or=CAdmin)  \n",
    "The web UI of the CSE.\n",
    "\n",
    "#### Notification Server\n",
    "- [start-notificationServer.ipynb](start-notificationServer.ipynb)  \n",
    "This notebook runs a local server for receiving notifications.  \n",
    "<mark>The notification server is used in the notebook [onem2m-06-notifications.ipynb](onem2m-06-notifications.ipynb) and must be started before.</mark>\n",
    "\n",
    "\n",
    "\n",
    "## oneM2M Notebooks & Exercises\n",
    "- [onem2m-01-introduction.ipynb](onem2m-01-introduction.ipynb)  \n",
    "An introduction that demonstrates how to retrieve the root &lt;CSEBase> resource.\n",
    "- [onem2m-02-basic-resources.ipynb](onem2m-02-basic-resources.ipynb)  \n",
    "This notebook shows your how to create and work with the basic oneM2M resources: &lt;AE>, &lt;Container> and &lt;ContentInstance>.  \n",
    "It also creates the necessary resource structure for the other notebooks.\n",
    "- [onem2m-03-discovery.ipynb](onem2m-03-discovery.ipynb)  \n",
    "How do you search for resources in a CSE?.\n",
    "- [onem2m-04-groups.ipynb](onem2m-04-groups.ipynb)  \n",
    "Group resources together and send requests to a group instead of each single resource.\n",
    "- [onem2m-05-accesscontrol.ipynb](onem2m-05-accesscontrol.ipynb)  \n",
    "Control access to resources with Access Control Policies.\n",
    "- [onem2m-06-notifications.ipynb](onem2m-06-notifications.ipynb)  \n",
    "Subscribe to changes of resources and receive notifications.\n",
    "- [onem2m-07-flexcontainer.ipynb](onem2m-07-flexcontainer.ipynb)  \n",
    "What are &lt;FlexContainer> resources and how to use them?\n",
    "\n",
    "## Cleanup\n",
    "\n",
    "- [onem2m-99-cleanup.ipynb](onem2m-99-cleanup.ipynb)  \n",
    "The code in this notebook removes the resources created by the other notebooks.  \n",
    "This should be the last notebook to run, but can be executed whenever necessary.\n",
    "\n",
    "\n",
    "## Links\n",
    "\n",
    "- oneM2M notebooks on GitHub  \n",
    "[https://github.com/ankraft/onem2m-jupyter-notebooks](https://github.com/ankraft/onem2m-jupyter-notebooks)\n",
    "- ACME oneM2M CSE  \n",
    "[https://github.com/ankraft/ACME-oneM2M-CSE](https://github.com/ankraft/ACME-oneM2M-CSE)\n",
    "- oneM2M home Page  \n",
    "[https://onem2m.org](https://onem2m.org)\n",
    "\n",
    "\n",
    "## License\n",
    "\n",
    "These Notebooks are available under the BSD 3-Clause License."
   ]
  },
  {
   "cell_type": "markdown",
   "metadata": {},
   "source": [
    "&nbsp;"
   ]
  }
 ],
 "metadata": {
  "kernelspec": {
   "display_name": "Python 3",
   "language": "python",
   "name": "python3"
  },
  "language_info": {
   "codemirror_mode": {
    "name": "ipython",
    "version": 3
   },
   "file_extension": ".py",
   "mimetype": "text/x-python",
   "name": "python",
   "nbconvert_exporter": "python",
   "pygments_lexer": "ipython3",
   "version": "3.8.2"
  }
 },
 "nbformat": 4,
 "nbformat_minor": 4
}