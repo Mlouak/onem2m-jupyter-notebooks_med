{
 "cells": [
  {
   "cell_type": "markdown",
   "metadata": {},
   "source": [
    "<img style=\"float: right; padding: 10px;\" width=\"200\" src=\"images/logo-onem2m-the-iot-standard.jpg\">\n",
    "\n",
    "# oneM2M - First Contact\n",
    "This notebook shows the the first basic interactions with a CSE using a REST call to retrieve the root CSE resource.\n",
    "\n",
    "- Retrieve a &lt;CSEBase> resource\n",
    "\n",
    "## Intitialization\n",
    "\n",
    "The section does import necessary modules and configurations, and prepares the CSE for this notebook."
   ]
  },
  {
   "cell_type": "code",
   "execution_count": null,
   "metadata": {},
   "outputs": [],
   "source": [
    "%run src/init.py introduction"
   ]
  },
  {
   "cell_type": "markdown",
   "metadata": {},
   "source": [
    "<img align=\"right\" src=\"images/01/retrieve_CSEBase.png\">\n",
    "\n",
    "## Retrieve the &lt;CSEBase> Resource\n",
    "\n",
    "This first example retrieves the &lt;CSEBase> resource from the CSE. This resource represents the root of the CSE itself. All other resources are located under this root resource."
   ]
  },
  {
   "cell_type": "code",
   "execution_count": null,
   "metadata": {},
   "outputs": [],
   "source": [
    "RETRIEVE (                                        # RETRIEVE request\n",
    "    \n",
    "    # Target the CSEBase itself\n",
    "    to                      = cseBaseName,        \n",
    "\n",
    "    # Request Parameters\n",
    "    originator              = defaultOriginator,  # Set the originator\n",
    "    requestIdentifier       = '123',              # Unique request identifier\n",
    "    releaseVersionIndicator = '3',                # Release version indicator\n",
    ")"
   ]
  },
  {
   "cell_type": "markdown",
   "metadata": {},
   "source": [
    "**Congratulations!**  \n",
    "You just sent your first request to a oneM2M CSE.\n",
    "\n",
    "<p>\n",
    "<div style=\"background-color:transparent;border:2px #b42025 solid;padding: 10px;width: calc(100% - 350px);\">\n",
    "    <div style=\"color:#b42025;\"><b><i class=\"fa fa-info-circle\" aria-hidden=\"true\"></i>&nbsp; oneM2M</b></div>\n",
    "    <div style=\"color:#545054;\">\n",
    "        oneM2M tries to optimize the amount of data that is transported in requests. So, the attributes in the sent requests and received responses are use only their short names.<br />\n",
    "        In these notebooks we show the long name versions for easier understanding, but you can see the short name of an attribute in a request or response when you hover over it with your mouse.\n",
    "    </div>\n",
    "</div>\n",
    "</p>\n",
    "\n",
    "### Request & Response Attributes\n",
    "\n",
    "The request and response introduce new attributes:\n",
    "\n",
    "\n",
    "| Attribute                | Short Name | Description                                                                                                                                                               |\n",
    "|:-------------------------|:-----------|:--------------------------------------------------------------------------------------------------------------------------------------------------------------------------|\n",
    "| to                       | to         | This is the target resource for the request                                                                                                                               |\n",
    "| originator / from        | fr         | The originator of the request.<br>We use *originator* in our all our example requests.                                                                                    |\n",
    "| requestIdentifier        | rqi        | A unique identifier for the request that is also used in the response.                                                                                                    |\n",
    "| releaseVersionIndicator  | rvi        | A indicator which version of the oneM2M specification we want to use for the processing of the request.                                                                   |\n",
    "| originatingTimestamp     | ot         | The original timestamp of the request.                                                                                                                                    |\n",
    "| resourceName             | rn         | The name of a resource. If left out in creation requests, the CSE assigns a unique resource name on its own.<br>For the CSEBase this is usually set by the administrator. |\n",
    "| resourceType             | ty         | The type of the resource.                                                                                                                                                 |\n",
    "| resourceID               | ri         | The unique identifier of a resource. Assigned by the CSE.                                                                                                                 |\n",
    "| creationTime             | ct         | The creation time of a resource. Assigned by the CSE.                                                                                                                     |\n",
    "| lastModifiedTime         | lt         | The last modified time of a resource. Assigned by the CSE.                                                                                                                |\n",
    "| accessControlPolicyIDs   | acpi       | A list of &lt;AccessControlPolicy> resources, which specify access control and rights to a resource.                                                                      |\n",
    "| cseType                  | cst        | The CSE type:  IN, MN, or ASN                                                                                                                                             |\n",
    "| CSE-ID                   | csi        | An identifier that uniquely identifies the CSE. It always starts with a /.                                                                                                |\n",
    "| supportedResourceType    | srt        | A list of *Resource Types* supported by this CSE.                                                                                                                         |\n",
    "| supportedReleaseVersions | srv        | The oneM2M release versions supported by this CSE.                                                                                                                        |\n",
    "| pointOfAccess            | poa        | The Point of Access of the CSE. This is an URL where requests to the CSE can be sent.                                                                                     |\n",
    "| currentTime              | ctm        | The current time of the CSE. It is in ISO 8901 format and is UTC-based.                                                                                                   |\n",
    "\n"
   ]
  },
  {
   "cell_type": "markdown",
   "metadata": {},
   "source": [
    "&nbsp;"
   ]
  }
 ],
 "metadata": {
  "kernelspec": {
   "display_name": "Python 3 (ipykernel)",
   "language": "python",
   "name": "python3"
  },
  "language_info": {
   "codemirror_mode": {
    "name": "ipython",
    "version": 3
   },
   "file_extension": ".py",
   "mimetype": "text/x-python",
   "name": "python",
   "nbconvert_exporter": "python",
   "pygments_lexer": "ipython3",
   "version": "3.8.7"
  }
 },
 "nbformat": 4,
 "nbformat_minor": 4
}
