{
 "cells": [
  {
   "cell_type": "markdown",
   "metadata": {},
   "source": [
    "# oneM2M - Subscriptions and Notifications\n",
    "\n",
    "This notebook demonstrates how to subscribe to notifications from resources.\n",
    "\n",
    "<font color=\"blue\">**Please execute the notebook \"oneM2M - Subscriptions and Notifications - Notification Server\" first from [this notebook](start-notificationServer.ipynb)**</font> .  \n",
    "This starts a notification server that will receive the notifications that result from the following requests.\n",
    "\n",
    "- Create a &lt;Subscription> resource\n",
    "- Create &lt;ContentInstance> resource and raise a notification\n",
    "\n",
    "\n",
    "## Intitialization\n",
    "The section does import necessary modules and configurations."
   ]
  },
  {
   "cell_type": "code",
   "execution_count": null,
   "metadata": {},
   "outputs": [],
   "source": [
    "%run init.py"
   ]
  },
  {
   "cell_type": "markdown",
   "metadata": {},
   "source": [
    "## Subscribe to a &lt;Container> Resource\n",
    "\n",
    "The following requests creates a &lt;Subscription> resource for the *myContainer* resource. It\n",
    "\n",
    "These attributes are part of the request:\n",
    "\n",
    "- **nu** : The Notification URI specifies where to send verification and notification requests. This points to the Notification Server in the other running notebook (s.a.)\n",
    "- **nct** : The Notification Content Type attribute specifies the kind of content that should be sent in a notification initiated by this subscription. Possible values are:\n",
    "\n",
    "| Value | Interpretation                           |\n",
    "|-------|:-----------------------------------------|\n",
    "| 1     | All. The whole resource                  |\n",
    "| 2     | Only modified attributes                 |\n",
    "| 3     | The resource's *resource ID*             |\n",
    "| 4     | The trigger payload in case of Triggers  |\n",
    "\n",
    "- **exc** : The Expiration Counter indicates that the subscriber wants to set the life of this subscription to a limit of a maximum number of notifications.\n",
    "- **enc/net** : The Notification Event Types indicates the reason for which a notification is to be generated. This can be a list of reasons taken from the following list:\n",
    "\n",
    "| Value | Interpretation                                        |\n",
    "|-------|:------------------------------------------------------|\n",
    "| 1     | Update of Resource                                    |\n",
    "| 2     | Delete of Resource                                    |\n",
    "| 3     | Create of Direct Child Resource                       |\n",
    "| 4     | Delete of Direct Child Resource                       |\n",
    "| 5     | Retrieve of Container Resource With No Child Resource |\n",
    "| 6     | Trigger Received For AE_Resource                      |\n",
    "| 7     | Blocking Update                                       |\n",
    "\n"
   ]
  },
  {
   "cell_type": "code",
   "execution_count": null,
   "metadata": {},
   "outputs": [],
   "source": [
    "CREATE (                                           # CREATE request\n",
    "    f'{url}/Notebook-AE/Container',\n",
    "    \n",
    "    # Request Headers\n",
    "    {\n",
    "        'X-M2M-Origin' : originator,               # Set the originator\n",
    "        'X-M2M-RI'     : '0',                      # Request identifier\n",
    "        'X-M2M-RVI'    : '3',                      # Release verson indicator\n",
    "        'Accept'       : 'application/json',       # Response shall be JSON\n",
    "        'Content-Type' : 'application/json;ty=23'  # Content is JSON, and represents a <Subscription> resource\n",
    "    },\n",
    "    \n",
    "    # Request Body\n",
    "    {\n",
    "        'm2m:sub': {\n",
    "            'rn'  : 'mySubscription',\n",
    "            'nu'  : [ notificationURL ],\n",
    "            'nct' : 1,\n",
    "            'enc' : {\n",
    "                'net': [ 1, 2, 3, 4 ]\n",
    "            }\n",
    "        }\n",
    "    }\n",
    ")"
   ]
  },
  {
   "cell_type": "markdown",
   "metadata": {},
   "source": [
    "**Please check the [Notification Server](start-notificationServer.ipynb) notebook** (the one with the running Notification Server) in order to see the verification request. When this requests returns with a *201 (Created)* result code then the creation of the &lt;Subscription> resource as well as the verification request were successfull."
   ]
  },
  {
   "cell_type": "markdown",
   "metadata": {},
   "source": [
    "## Add a &lt;ContentInstance> Resource and Raise a Notification\n",
    "\n",
    "We now have subscribed to notifications whenever the &lt;Container> changes. We can raise a notification by adding a new &lt;ContentInstance> resource to the container:"
   ]
  },
  {
   "cell_type": "code",
   "execution_count": null,
   "metadata": {},
   "outputs": [],
   "source": [
    "CREATE (                                           # CREATE request\n",
    "    f'{url}/Notebook-AE/Container',\n",
    "    \n",
    "    # Request Headers\n",
    "    {\n",
    "        'X-M2M-Origin' : originator,               # Set the originator\n",
    "        'X-M2M-RI'     : '123',                    # Request identifier\n",
    "        'X-M2M-RVI'    : '3',                      # Release verson indicator\n",
    "        'Accept'       : 'application/json',       # Response shall be JSON\n",
    "        'Content-Type' : 'application/json;ty=4'   # Content is JSON, and represents an <ContentInstance> resource\n",
    "    },\n",
    "    \n",
    "    # Request Body\n",
    "    {\n",
    "        'm2m:cin' : {\n",
    "            'cnf' : 'text/plain:0',\n",
    "            'con' : 'Good news, everybody!'\n",
    "        }\n",
    "    }\n",
    ")"
   ]
  },
  {
   "cell_type": "markdown",
   "metadata": {},
   "source": [
    "This request and result are similar as the previously when adding a &lt;ContentInstance> resource. But when we look at the output in the Notification Server notebook, we see that the notification transported the same result as this request. This way any receiver of a notification can react to a change of a resource without polling a CSE.\n",
    "\n",
    "Again, **check the Notification Server notebook for the notification**."
   ]
  },
  {
   "cell_type": "markdown",
   "metadata": {},
   "source": [
    "&nbsp;"
   ]
  }
 ],
 "metadata": {
  "kernelspec": {
   "display_name": "Python 3",
   "language": "python",
   "name": "python3"
  },
  "language_info": {
   "codemirror_mode": {
    "name": "ipython",
    "version": 3
   },
   "file_extension": ".py",
   "mimetype": "text/x-python",
   "name": "python",
   "nbconvert_exporter": "python",
   "pygments_lexer": "ipython3",
   "version": "3.8.2"
  }
 },
 "nbformat": 4,
 "nbformat_minor": 2
}
