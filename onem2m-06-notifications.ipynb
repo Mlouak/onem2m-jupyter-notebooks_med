{
 "cells": [
  {
   "cell_type": "markdown",
   "metadata": {},
   "source": [
    "# oneM2M - Subscriptions and Notifications\n",
    "\n",
    "This notebook demonstrates how to subscribe to notifications from resources.\n",
    "\n",
    " <div class=\"alert alert-block alert-info\" style=\"background-color: white; border: 2px solid; padding: 10px; width: calc(100% - 600px);\">\n",
    "    <b><i class=\"fa fa-info-circle\" aria-hidden=\"true\"></i>&nbsp; Note</b><br>\n",
    "Please execute the notebook \"oneM2M - Subscriptions and Notifications - Notification Server\" first from <a href=\"start-notificationServer.ipynb\">notification server notebook</a> first.<br>\n",
    "This starts a notification server that will receive the notifications that result from the following requests.\n",
    "<br>\n",
    "If you later see an error like \"internal server errror\" and a <i>Result Status Code</i> of <i>5204</i> you most likely forget to start the notification server. Please open the <a href=\"start-notificationServer.ipynb\">notification server notebook</a> and run or restart the server.\n",
    "</div>\n",
    "\n",
    "\n",
    "- Create a &lt;subscription> resource\n",
    "- Create &lt;contentInstance> resource and send a notification\n",
    "\n",
    "\n",
    "## Intitialization\n",
    "The section does import necessary modules and configurations, and prepares the CSE for this notebook.\n"
   ]
  },
  {
   "cell_type": "code",
   "execution_count": null,
   "metadata": {},
   "outputs": [],
   "source": [
    "%run src/init.py subscriptions"
   ]
  },
  {
   "cell_type": "markdown",
   "metadata": {
    "tags": []
   },
   "source": [
    "## Subscribe to a &lt;container> Resource\n",
    "\n",
    "<img align=\"right\" src=\"images/06/create_subscription.png\">\n",
    "\n",
    "\n",
    "\n",
    "The following requests creates a &lt;subscription> resource for the *Container* resource.\n",
    "\n",
    "\n",
    "<div class=\"alert alert-block alert-warning\" style=\"background-color: white; border: 2px solid; padding: 10px; width: calc(100% - 600px);\">\n",
    "    <b><i class=\"fa fa-info-circle\" aria-hidden=\"true\"></i>&nbsp; oneM2M</b><br>\n",
    "&lt;subscription> resource are used to monitor resource creations, updates and more. They also carry the configuration when and how the notifications are sent to a notification target.\n",
    "</div>\n",
    "\n",
    "\n",
    "These attributes are part of the request:\n",
    "\n",
    "- **nu** : The Notification URI specifies where to send verification and notification requests. This points to the Notification Server in the other running notebook (s.a.)\n",
    "- **nct** : The Notification Content Type attribute specifies the kind of content that should be sent in a notification initiated by this subscription. Possible values are:\n",
    "\n",
    "| Value | Interpretation                           |\n",
    "|-------|:-----------------------------------------|\n",
    "| 1     | All. The whole resource                  |\n",
    "| 2     | Only modified attributes                 |\n",
    "| 3     | The resource's *resource ID*             |\n",
    "| 4     | The trigger payload in case of Triggers  |\n",
    "\n",
    "- **exc** : The Expiration Counter indicates that the subscriber wants to set the life of this subscription to a limit of a maximum number of notifications.\n",
    "- **enc/net** : The Notification Event Types indicates the reason for which a notification is to be generated. This can be a list of reasons taken from the following list:\n",
    "\n",
    "| Value | Interpretation                                        |\n",
    "|-------|:------------------------------------------------------|\n",
    "| 1     | Update of Resource                                    |\n",
    "| 2     | Delete of Resource                                    |\n",
    "| 3     | Create of Direct Child Resource                       |\n",
    "| 4     | Delete of Direct Child Resource                       |\n",
    "| 5     | Retrieve of Container Resource With No Child Resource |\n",
    "| 6     | Trigger Received For AE_Resource                      |\n",
    "| 7     | Blocking Update                                       |\n",
    "\n"
   ]
  },
  {
   "cell_type": "code",
   "execution_count": null,
   "metadata": {},
   "outputs": [],
   "source": [
    "CREATE (                                           # CREATE request\n",
    "    \n",
    "    # Create subscription resource under the container\n",
    "    target                  = cseBaseName + '/Notebook-AE/Container',  \n",
    "    \n",
    "    # Request Attributes\n",
    "    originator              = 'Cmyself',           # Set the originator\n",
    "    requestIdentifier       = '123',               # Unique request identifier\n",
    "    releaseVersionIndicator = '3',                 # Release version indicator\n",
    "    resourceType            = Type.Subscription,   # Type of the resource: Subscription\n",
    "    \n",
    "    # Request Body\n",
    "    content = \n",
    "        {\n",
    "            'm2m:sub': {\n",
    "                'rn'  : 'Subscription',\n",
    "                'nu'  : [ notificationURL ],\n",
    "                'nct' : 1,\n",
    "                'enc' : {\n",
    "                    'net': [ 1, 2, 3, 4 ]\n",
    "                }\n",
    "            }\n",
    "        }\n",
    ")"
   ]
  },
  {
   "cell_type": "markdown",
   "metadata": {},
   "source": [
    "**Please check the [Notification Server](start-notificationServer.ipynb) notebook** (the one with the running Notification Server) to see the verification request.  \n",
    "When this requests returns with a *201 (Created)* status code / *2001 oneM2M Response Status Code* then the creation of the &lt;subscription> resource as well as the verification request were successfull.\n",
    "\n",
    "\n",
    " <div class=\"alert alert-block alert-info\" style=\"background-color: white; border: 2px solid; padding: 10px; width: calc(100% - 600px);\">\n",
    "    <b><i class=\"fa fa-info-circle\" aria-hidden=\"true\"></i>&nbsp; Note</b><br>\n",
    "    If you see an error like \"Verification request failed\" or \"internal server errror\" and a <i>Response Status Code</i> of 5204 you most likely forget to start the notification server. Please open the <a href=\"start-notificationServer.ipynb\">notification server</a> notebook and run the server.<br>\n",
    "    <b>You must then execute the above cell again!</b>\n",
    "</div>\n",
    "\n",
    "\n"
   ]
  },
  {
   "cell_type": "markdown",
   "metadata": {},
   "source": [
    "<img align=\"right\" src=\"images/06/create_contentInstance.png\">\n",
    "\n",
    "\n",
    "## Add a &lt;contentInstance> Resource and Send a Notification\n",
    "\n",
    "We now have subscribed to notifications whenever the &lt;container> changes. We can raise a notification by adding a new &lt;contentInstance> resource to the container with the following request."
   ]
  },
  {
   "cell_type": "code",
   "execution_count": null,
   "metadata": {
    "tags": []
   },
   "outputs": [],
   "source": [
    "CREATE (                                             # CREATE request\n",
    "    \n",
    "    # Add the <container> under the <AE>\n",
    "    target                  = cseBaseName + '/Notebook-AE/Container',\n",
    "    \n",
    "    # Request Attributes\n",
    "    originator              = 'Cmyself',             # Set the originator\n",
    "    requestIdentifier       = '123',                 # Unique request identifier\n",
    "    releaseVersionIndicator = '3',                   # Release version indicator\n",
    "    resourceType            = Type.ContentInstance,  # Type of the resource (ContentInstance)\n",
    "    \n",
    "    # Request Body\n",
    "    content = \n",
    "        {\n",
    "            'm2m:cin' : {\n",
    "                'cnf' : 'text/plain:0',\n",
    "                'con' : 'Good news, everybody!'\n",
    "            }\n",
    "        }\n",
    ")"
   ]
  },
  {
   "cell_type": "markdown",
   "metadata": {
    "tags": []
   },
   "source": [
    "**Again, please check the [Notification Server](start-notificationServer.ipynb) notebook to see the notification.** \n",
    "\n",
    "<div class=\"alert alert-block alert-warning\" style=\"background-color: white; border: 2px solid; padding: 10px; width: calc(100% - 600px);\">\n",
    "    <b><i class=\"fa fa-info-circle\" aria-hidden=\"true\"></i>&nbsp; oneM2M</b><br>\n",
    "This request and result are similar as the previously request when we added a &lt;container> resource. But when we look at the output in the <a href=\"start-notificationServer.ipynb\">Nnotification Server</a> notebook, we see that the notification contains the same resource as this request. This way any receiver of a notification can react to a change of a resource without polling a CSE.<br>\n",
    "This behaviour can be changed when configuring the &lt;subscription> resource. </div>\n",
    "\n",
    "Any further creation of a &lt;contentInstance> resource will cause a new notification to be sent.\n"
   ]
  },
  {
   "cell_type": "markdown",
   "metadata": {},
   "source": [
    "&nbsp;"
   ]
  }
 ],
 "metadata": {
  "kernelspec": {
   "display_name": "Python 3",
   "language": "python",
   "name": "python3"
  },
  "language_info": {
   "codemirror_mode": {
    "name": "ipython",
    "version": 3
   },
   "file_extension": ".py",
   "mimetype": "text/x-python",
   "name": "python",
   "nbconvert_exporter": "python",
   "pygments_lexer": "ipython3",
   "version": "3.8.7"
  }
 },
 "nbformat": 4,
 "nbformat_minor": 4
}
