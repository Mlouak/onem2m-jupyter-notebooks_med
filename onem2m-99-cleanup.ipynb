{
 "cells": [
  {
   "cell_type": "markdown",
   "metadata": {},
   "source": [
    "# oneM2M - Cleanup\n",
    "This notebook removes the &lt;AE> resource and all its sub-resources.\n",
    "\n",
    "- Delete the &lt;AE> resource\n",
    "- Delete the second &lt;AE> resource\n",
    "- Delete the &lt;ACP> resource\n",
    "\n",
    "**Note**: You shouldn't execute this notebook if you want to execute the examples from the other notebooks. Otherwise, you have to execute the code cells from this notebook again.\n",
    "\n",
    "## Intitialization\n",
    "The section does import necessary modules and configurations."
   ]
  },
  {
   "cell_type": "code",
   "execution_count": null,
   "metadata": {},
   "outputs": [],
   "source": [
    "from init import *"
   ]
  },
  {
   "cell_type": "markdown",
   "metadata": {},
   "source": [
    "## Delete the &lt;AE> Resource and all its Sub-Resources\n",
    "This section deletes the &lt;AE> resource and all its sub-resources from the CSE."
   ]
  },
  {
   "cell_type": "code",
   "execution_count": null,
   "metadata": {
    "scrolled": true
   },
   "outputs": [],
   "source": [
    "headers = {\n",
    "    'X-M2M-Origin' : originator,                  # Set the originator\n",
    "    'Accept'       : 'application/json',          # Response shall be JSON\n",
    "    'Content-Type' : 'application/json;ty=2'      # Content is JSON, and represents an <AE> resource\n",
    "}\n",
    "\n",
    "response = requests.delete(url + '/myAE', headers=headers)   # DELETE request\n",
    "printResponse(response)"
   ]
  },
  {
   "cell_type": "markdown",
   "metadata": {},
   "source": [
    "## Delete the second &lt;AE> Resource and all its Sub-Resources\n",
    "This section deletes the second &lt;AE> resource and all its sub-resources from the CSE."
   ]
  },
  {
   "cell_type": "code",
   "execution_count": null,
   "metadata": {
    "scrolled": true
   },
   "outputs": [],
   "source": [
    "headers = {\n",
    "    'X-M2M-Origin' : originator,                  # Set the originator\n",
    "    'Accept'       : 'application/json',          # Response shall be JSON\n",
    "    'Content-Type' : 'application/json;ty=2'      # Content is JSON, and represents an <AE> resource\n",
    "}\n",
    "\n",
    "response = requests.delete(url + '/secondAE', headers=headers)   # DELETE request\n",
    "printResponse(response)"
   ]
  },
  {
   "cell_type": "markdown",
   "metadata": {},
   "source": [
    "## Delete the &lt;ACP> Resource\n",
    "This section deletes the &lt;ACP> resource."
   ]
  },
  {
   "cell_type": "code",
   "execution_count": null,
   "metadata": {},
   "outputs": [],
   "source": [
    "headers = {\n",
    "    'X-M2M-Origin' : originator,                  # Set the originator\n",
    "    'Accept'       : 'application/json',          # Response shall be JSON\n",
    "    'Content-Type' : 'application/json;ty=1'      # Content is JSON, and represents an <ACP> resource\n",
    "}\n",
    "\n",
    "response = requests.delete(url + '/myACP', headers=headers)   # DELETE request\n",
    "printResponse(response)"
   ]
  }
 ],
 "metadata": {
  "kernelspec": {
   "display_name": "Python 3",
   "language": "python",
   "name": "python3"
  },
  "language_info": {
   "codemirror_mode": {
    "name": "ipython",
    "version": 3
   },
   "file_extension": ".py",
   "mimetype": "text/x-python",
   "name": "python",
   "nbconvert_exporter": "python",
   "pygments_lexer": "ipython3",
   "version": "3.7.2"
  }
 },
 "nbformat": 4,
 "nbformat_minor": 2
}
