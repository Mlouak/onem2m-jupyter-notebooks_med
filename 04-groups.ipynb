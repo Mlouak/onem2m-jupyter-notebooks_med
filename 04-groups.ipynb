{
 "cells": [
  {
   "cell_type": "markdown",
   "metadata": {},
   "source": [
    "<img style=\"float: right; padding: 10px;\" width=\"200\" src=\"images/logo-onem2m-the-iot-standard.jpg\">\n",
    "\n",
    "\n",
    "# oneM2M - Groups\n",
    "\n",
    "This notebook demonstrates how oneM2M resources can be organized into groups.  \n",
    "&lt;Group> resources offer a so-called *fan-out point* that can be the target to address all resources of a group.\n",
    "\n",
    "- Create a &lt;group> resource with &lt;container> resources\n",
    "- Retrieve the &lt;container> resources via the &lt;group>\n",
    "- Add a &lt;contentInstance> to the &lt;group>'s containers\n",
    "- Retrieve all the latest &lt;contentInstances> from the &lt;group>\n",
    "\n",
    "## Intitialization\n",
    "The section does import necessary modules and configurations, and prepares the CSE for this notebook."
   ]
  },
  {
   "cell_type": "code",
   "execution_count": null,
   "metadata": {},
   "outputs": [],
   "source": [
    "%run src/init.py groups"
   ]
  },
  {
   "cell_type": "markdown",
   "metadata": {},
   "source": [
    "<img align=\"right\" src=\"images/04/create_group.png\">\n",
    "\n",
    "## Create a &lt;group> Resource\n",
    "\n",
    "\n",
    "With the following request we create a &lt;group> resource with the two &lt;container> resources as members.\n",
    "\n",
    "\n",
    "<p>\n",
    "<div style=\"background-color:transparent;border:2px #b42025 solid;padding: 10px;width: calc(100% - 450px);border-radius:10px;\">\n",
    "    <div style=\"color:#b42025;\"><b><i class=\"fa fa-info-circle\" aria-hidden=\"true\"></i>&nbsp; oneM2M</b></div>\n",
    "    <div style=\"color:#545054;\">\n",
    "Note, that a &lt;group> may contain resources of mixed type. Requests to the &lt;group>'s members in general only affect fitting resources.\n",
    "    </div>\n",
    "</div>\n",
    "</p>\n",
    "\n"
   ]
  },
  {
   "cell_type": "code",
   "execution_count": null,
   "metadata": {},
   "outputs": [],
   "source": [
    "CREATE (                                             # CREATE request\n",
    "    \n",
    "    # Add the <group> under the <AE>\n",
    "    to                      = cseBaseName + '/Notebook-AE',\n",
    "    \n",
    "    # Request Parameters\n",
    "    originator              = 'Cmyself',                      # Set the originator\n",
    "    requestIdentifier       = '123',                          # Unique request identifier\n",
    "    releaseVersionIndicator = '3',                            # Release version indicator\n",
    "    resourceType            = Type.Group,                     # Type of the resource\n",
    "    \n",
    "    # Request Body\n",
    "    primitiveContent = \n",
    "        {\n",
    "            'm2m:Group': {                                    # <container> resource\n",
    "                'resourceName': 'Group',                      # Name of the resource\n",
    "                'memberIDs': [                                # List of <group> member resources\n",
    "                    cseBaseName + '/Notebook-AE/Container',\n",
    "                    cseBaseName + '/Notebook-AE/Container_2'\n",
    "                ],\n",
    "                'maxNrOfMembers': 10                          # Maximum number of members is 10\n",
    "            }\n",
    "        }\n",
    ")"
   ]
  },
  {
   "cell_type": "markdown",
   "metadata": {},
   "source": [
    "<p>\n",
    "<div style=\"background-color:transparent;border:2px #b42025 solid;padding: 10px;width: calc(100% - 450px);border-radius:10px;\">\n",
    "    <div style=\"color:#b42025;\"><b><i class=\"fa fa-info-circle\" aria-hidden=\"true\"></i>&nbsp; oneM2M</b></div>\n",
    "    <div style=\"color:#545054;\">\n",
    "    In addition to the &lt;group> resource the CSE provides a virtual <i>fopt</i> (fan-out point) resource under the &lt;group> resource. Requests to this virtual resource are multiplied by the CSE and sent to each of &lt;group>'s member resources. The full response messages of individual requests, including for example the Response Status Codes, are collected and returned in the response to original request.\n",
    "    <br><br>\n",
    "Also note, that the resource identifiers in the group's <i>mid</i> attribute have been changed to unstructured format.     </div>\n",
    "</div>\n",
    "</p>\n",
    " \n",
    " \n",
    "### Requests & Response Attributes\n",
    "\n",
    "The request and response introduce new attributes:\n",
    "\n",
    "| Attribute           | Short Name | Description                                                                                                                                   |\n",
    "|:--------------------|:-----------|:----------------------------------------------------------------------------------------------------------------------------------------------|\n",
    "| memberIDs           | mid        | The resource IDs of the group's members.                                                                                                      |\n",
    "| maxNrOfMembers      | mnm        | The maximum number of member of a &lt;group>.                                                                                                 |\n",
    "| memberType          | mt         | This is the resource type of the member resources. The member type is *mixed* (0) in case the member resourtces are not all of the same type. |\n",
    "| currentNrOfMembers  | cnm        | The current number of member of the &lt;Group> resource.                                                                                      |\n",
    "| memberTypeValidated | mtv        | Member types validated. This read-only attribute indicates whether the hosting CSE correctly validated the member resources.                  |\n",
    "| consistencyStrategy | csy        | The consistency strategy determines how the CSE deals with the &lt;group> resource if the member type validation fails.                       |\n",
    "\n",
    "\n",
    "\n",
    "<img align=\"right\" src=\"images/04/retrieve_containers.png\">\n",
    "\n",
    "## Retrieve all &lt;container> Resources of a &lt;group> Resource\n",
    "\n",
    "\n",
    "The following request retrieves all the &lt;container> resources that are members of the &lt;group> resource.  \n",
    "The request targets the virtual *fan-out point* child resource of the &lt;group> resource.\n"
   ]
  },
  {
   "cell_type": "code",
   "execution_count": null,
   "metadata": {},
   "outputs": [],
   "source": [
    "RETRIEVE (                                          # RETRIEVE request\n",
    "\n",
    "    # Retrieve the container resources from the group\n",
    "    to                      = cseBaseName + '/Notebook-AE/Group/fopt', \n",
    "\n",
    "    # Request Parameters\n",
    "    originator              = 'Cmyself',            # Set the originator\n",
    "    requestIdentifier       = '123',                # Unique request identifier\n",
    "    releaseVersionIndicator = '3',                  # Release version indicator\n",
    ")"
   ]
  },
  {
   "cell_type": "markdown",
   "metadata": {},
   "source": [
    "\n",
    "<p>\n",
    "<div style=\"background-color:transparent;border:2px #b42025 solid;padding: 10px;width: calc(100% - 450px);border-radius:10px;\">\n",
    "    <div style=\"color:#b42025;\"><b><i class=\"fa fa-info-circle\" aria-hidden=\"true\"></i>&nbsp; oneM2M</b></div>\n",
    "    <div style=\"color:#545054;\">\n",
    "The response contains a list of aggregated responses from the individual RETRIEVE requests that are fanned-out to the member resources of the &lt;group>.\n",
    "    </div>\n",
    "</div>\n",
    "</p>\n",
    "<img align=\"right\" src=\"images/04/create_contentInstances.png\">\n",
    "\n",
    " \n",
    "### Requests & Response Attributes\n",
    "\n",
    "The request and response introduce new attributes:\n",
    "\n",
    "| Attribute          | Short Name | Description                                                                                      |\n",
    "|:-------------------|:-----------|:-------------------------------------------------------------------------------------------------|\n",
    "| aggregatedResponse | agr        | An aggregated response contains a collection of individual response primitives.                  |\n",
    "| responsePrimitive  | rsp        | A single response to a request. It contains various response attributes and a primitive content. |\n",
    "| primitiveContent   | pc         | The the actual resource or other answer to a request.                                            |\n",
    "\n",
    "\n",
    "\n",
    "## Add &lt;contentInstance> Resources to all the &lt;group> Members\n",
    "\n",
    "\n",
    "The following request creates &lt;contentInstance> resources, one under each member of the &lt;group> resource.  \n",
    "Again, this request targets the virtual *fan.out point* child resource of the &lt;group> resource."
   ]
  },
  {
   "cell_type": "code",
   "execution_count": null,
   "metadata": {},
   "outputs": [],
   "source": [
    "CREATE (                                             # CREATE request\n",
    "    \n",
    "    # Send the request to the <fopt> virtual resoure\n",
    "    to                      = cseBaseName + '/Notebook-AE/Group/fopt',\n",
    "    \n",
    "    # Request Parameters\n",
    "    originator              = 'Cmyself',             # Set the originator\n",
    "    requestIdentifier       = '123',                 # Unique request identifier\n",
    "    releaseVersionIndicator = '3',                   # Release version indicator\n",
    "    resourceType            = Type.ContentInstance,  # Type of the resource\n",
    "    \n",
    "    # Request Body\n",
    "    primitiveContent = \n",
    "        {\n",
    "            'm2m:ContentInstance': {\n",
    "                'contentInfo': 'text/plain:0',\n",
    "                'content': 'Hello, World!'\n",
    "            }\n",
    "        }\n",
    ")"
   ]
  },
  {
   "cell_type": "markdown",
   "metadata": {},
   "source": [
    "\n",
    "<p>\n",
    "<div style=\"background-color:transparent;border:2px #b42025 solid;padding: 10px;width: calc(100% - 450px);border-radius:10px;\">\n",
    "    <div style=\"color:#b42025;\"><b><i class=\"fa fa-info-circle\" aria-hidden=\"true\"></i>&nbsp; oneM2M</b></div>\n",
    "    <div style=\"color:#545054;\">\n",
    "The request returns the created &lt;contentInstance> resources from both the &lt;container> resources inside the aggregated response.\n",
    "    </div>\n",
    "</div>\n",
    "</p>\n",
    "\n",
    "\n",
    "<img align=\"right\" src=\"images/04/retrieve_latest.png\">\n",
    "\n",
    "\n",
    "## Retrieve the latest \\<contentInstance> Resources from the \\<container> Resources\n",
    "\n",
    "With the following request we will retrieve all the latest &lt;contentInstances> from the &lt;group>.\n",
    "\n",
    "<p>\n",
    "<div style=\"background-color:transparent;border:2px #b42025 solid;padding: 10px;width: calc(100% - 450px);border-radius:10px;\">\n",
    "    <div style=\"color:#b42025;\"><b><i class=\"fa fa-info-circle\" aria-hidden=\"true\"></i>&nbsp; oneM2M</b></div>\n",
    "    <div style=\"color:#545054;\">\n",
    "    We target the &lt;group>'s &lt;container> resources normally via the <i>fopt</i> virtual resource and then extend the path by appending <i>la</i> for the &lt;latest> virtual resource to access the latest &lt;contentInstance> resources. This path is internally extened by the CSE for each of the &lt;group>'s members.\n",
    "    </div>\n",
    "</div>\n",
    "</p>"
   ]
  },
  {
   "cell_type": "code",
   "execution_count": null,
   "metadata": {},
   "outputs": [],
   "source": [
    "RETRIEVE (                                          # RETRIEVE request\n",
    "\n",
    "    # Retrieve the latest content instance resource from all the group's containers\n",
    "    to                      = cseBaseName + '/Notebook-AE/Group/fopt/la',\n",
    "\n",
    "    # Request Parameters\n",
    "    originator              = 'Cmyself',            # Set the originator\n",
    "    requestIdentifier       = '123',                # Unique request identifier\n",
    "    releaseVersionIndicator = '3',                  # Release version indicator\n",
    ")"
   ]
  },
  {
   "cell_type": "markdown",
   "metadata": {},
   "source": [
    "&nbsp;"
   ]
  }
 ],
 "metadata": {
  "kernelspec": {
   "display_name": "Python 3 (ipykernel)",
   "language": "python",
   "name": "python3"
  },
  "language_info": {
   "codemirror_mode": {
    "name": "ipython",
    "version": 3
   },
   "file_extension": ".py",
   "mimetype": "text/x-python",
   "name": "python",
   "nbconvert_exporter": "python",
   "pygments_lexer": "ipython3",
   "version": "3.8.7"
  }
 },
 "nbformat": 4,
 "nbformat_minor": 4
}
