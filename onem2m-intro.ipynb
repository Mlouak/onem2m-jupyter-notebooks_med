{
 "cells": [
  {
   "cell_type": "markdown",
   "metadata": {},
   "source": [
    "# oneM2M - Introduction to Basic Resources and Interactions\n",
    "This notebook shows the basic interactions with a CSE using REST calls. Examples include:\n",
    "\n",
    "- Retrieve &lt;CSEBase> resource\n",
    "- Create an &lt;AE> resource\n",
    "- Create a &lt;Container> resource\n",
    "- Create one or more &lt;ContentInstance> resources\n",
    "- Retrieve the latest &lt;ContentInstance> resource\n",
    "- Update the &lt;Container> resource\n",
    "- Retrieve the &lt;Container> resource\n",
    "- Delete the &lt;AE> resource\n",
    "\n",
    "\n",
    "## Configurations\n",
    "This section defines configurations for the REST calls. Please adapt them to your environment accordingly."
   ]
  },
  {
   "cell_type": "code",
   "execution_count": null,
   "metadata": {},
   "outputs": [],
   "source": [
    "url        = 'http://localhost:8080/in-name'     # The URL of the CSE we want to connect to\n",
    "originator = 'admin:admin'                       # Originator ID to access the CSE"
   ]
  },
  {
   "cell_type": "markdown",
   "metadata": {},
   "source": [
    "## Intitialization\n",
    "The section does import necessary modules and defines a helper function used in this notebook."
   ]
  },
  {
   "cell_type": "code",
   "execution_count": null,
   "metadata": {},
   "outputs": [],
   "source": [
    "import requests, json\n",
    "\n",
    "# Tidy-print a response header.\n",
    "def printResponse(r):\n",
    "    print(str(r.status_code) + ' (' + r.reason + ')')\n",
    "    print('========== Headers ==========')\n",
    "    for h in r.headers:\n",
    "        print(h + ':' + r.headers[h])\n",
    "    if r.text:\n",
    "        print('\\n========== Body ==========')\n",
    "        print(r.text)\n",
    "    "
   ]
  },
  {
   "cell_type": "markdown",
   "metadata": {},
   "source": [
    "## Retrieve the &lt;CSEBase> Resource\n",
    "This first example retrieves the &lt;CSEBase> resource from the CSE. This resource represents the root of the CSE itself. all other resources are located beneath this root resource."
   ]
  },
  {
   "cell_type": "code",
   "execution_count": null,
   "metadata": {
    "scrolled": false
   },
   "outputs": [],
   "source": [
    "headers = {\n",
    "    'X-M2M-Origin' : originator,                # Set the originator\n",
    "    'X-M2M-RI'     : '1',                       # Unique request identifier\n",
    "    'Accept'       : 'application/json',        # Response shall be JSON\n",
    "    'Content-Type' : 'application/json;ty=2'    # Content is JSON, and represents an <AE> resource\n",
    "    \n",
    "}\n",
    "response = requests.get(url, headers=headers)   # GET request\n",
    "printResponse(response)"
   ]
  },
  {
   "cell_type": "markdown",
   "metadata": {},
   "source": [
    "The response contains a lot of informations about the CSE itself:\n",
    "\n",
    "- **rn** : A unique ResourceName. If left out in creation requests, the CSE assigns a unique resource name on its own.\n",
    "- **ty** : Resource type.\n",
    "- **ri** : Resource identifier. This uniquely identifies a resource in a CSE.\n",
    "- **ct, lt** : Creation and last motification time and dates of a resource.\n",
    "- **acpi** : A list of &lt;AccessControlPolicy> resources, which specify access control and rights to a resource.\n",
    "- **cst** : The type of CSE (IN, MN etc)\n",
    "- **csi** : The CSE Identifier.\n",
    "- **srt** : A list of Resource Types supported by this CSE.\n",
    "- **poa** : The Point of Access of the CSE.\n",
    "\n",
    "## Create an &lt;AE> Resource\n",
    "This example creates a new &lt;AE> resource in the CSE. &lt;AE>'s represent applications or services.\n",
    "\n",
    "Creating this (or other) resource is done using a POST request and with providing a couple of mandatory attributes:\n",
    "\n",
    "- **rn** : see above\n",
    "- **api** : Application Identifier. An Application Identifier uniquely identifies an M2M Application in a given context.\n",
    "- **rr** : Request Reachability. This attribute indicates whether a resource can receive requests.\n",
    "\n",
    "Note, that the request target is the &lt;CSEBase> resource. All create requests target a parent resource."
   ]
  },
  {
   "cell_type": "code",
   "execution_count": null,
   "metadata": {},
   "outputs": [],
   "source": [
    "headers = {\n",
    "    'X-M2M-Origin' : originator,               # Set the originator\n",
    "    'X-M2M-RI'     : '2',                      # Unique request identifier\n",
    "    'Accept'       : 'application/json',       # Response shall be JSON\n",
    "    'Content-Type' : 'application/json;ty=2'   # Content is JSON, and represents an <AE> resource\n",
    "}\n",
    "\n",
    "data = '''\n",
    "{\n",
    "  \"m2m:ae\": {\n",
    "    \"rn\": \"myAE\",\n",
    "    \"api\": \"AE\",\n",
    "    \"rr\": true\n",
    "  }\n",
    "}\n",
    "'''\n",
    "\n",
    "response = requests.post(url, headers=headers, data=data)    # CREATE request\n",
    "printResponse(response)"
   ]
  },
  {
   "cell_type": "markdown",
   "metadata": {},
   "source": [
    "The response introduces some new attributes:\n",
    "\n",
    "- **pi** : This is the identifier of the parent resource.\n",
    "- **et** : Expiration time/date after which the CSE will delete the resource.\n",
    "- **aei** : An Application Entity Identifier uniquely identifies an AE globally.\n",
    "\n",
    "\n",
    "## Create a &lt;Container> Resource\n",
    "In this section we add a &lt;Container> resource to the &lt;AE> resource. A &lt;Container> represents a data point that can hold a configurable number of dsta instances. A &lt;Container> may also hold a sub-containers.\n",
    "\n",
    "If created with no further attributes, the CSE will assign defaults to the &lt;Container> resource."
   ]
  },
  {
   "cell_type": "code",
   "execution_count": null,
   "metadata": {
    "scrolled": false
   },
   "outputs": [],
   "source": [
    "headers = {\n",
    "    'X-M2M-Origin' : originator,               # Set the originator\n",
    "    'X-M2M-RI'     : '3',                      # Unique request identifier\n",
    "    'Accept'       : 'application/json',       # Response shall be JSON\n",
    "    'Content-Type' : 'application/json;ty=3'   # Content is JSON, and represents an <Container> resource\n",
    "}\n",
    "\n",
    "data = '''\n",
    "{\n",
    "  \"m2m:cnt\": {\n",
    "    \"rn\":\"myContainer\"\n",
    "  }\n",
    "}\n",
    "'''\n",
    "\n",
    "response = requests.post(url + '/myAE', headers=headers, data=data)    # CREATE request\n",
    "printResponse(response)"
   ]
  },
  {
   "cell_type": "markdown",
   "metadata": {},
   "source": [
    "The following attributes are used with the &lt;Container> resource:\n",
    "\n",
    "- **st** : The State Tag is incremented every time the resource is modified.\n",
    "- **mni** : Maximum number of direct data instances in the &lt;Container> resource.\n",
    "- **mbs** : Maximum size in bytes of data.\n",
    "- **mia** : Maximum age of a direct data instances in the &lt;Container> resource.\n",
    "- **cni** : Current number of direct data instances in the &lt;Container> resource.\n",
    "- **cbs** : Current size in bytes of data.\n",
    "- **ol** : Resource identifier of a virtual resource that points to the oldest data instance of the &lt;Container> resource.\n",
    "- **la** : Resource identifier of a virtual resource that points to the latest data instance of the &lt;Container> resource.\n",
    "\n",
    "## Add a &lt;ContentInstance> to the &lt;Container>\n",
    "\n",
    "Now, we add an actual value to the *myContainer* &lt;Container>. \n",
    "\n",
    "These attributes are part of the request:\n",
    "\n",
    "- **cnf** : This specifies the content format. It specifies the media type as well as an encoding type.\n",
    "- **con** : This is the actual content (ie. the value) that will be stored in the &lt;Container resource.\n",
    "\n",
    "&lt;ContentInstance>'s can only be added and read, but not updated or deleted.\n",
    "\n",
    "**Note**: You can execute the following code as often as you like in order to create more &lt;ContentInstance> resources."
   ]
  },
  {
   "cell_type": "code",
   "execution_count": null,
   "metadata": {},
   "outputs": [],
   "source": [
    "headers = {\n",
    "    'X-M2M-Origin' : originator,               # Set the originator\n",
    "    'X-M2M-RI'     : '4',                      # Unique request identifier\n",
    "    'Accept'       : 'application/json',       # Response shall be JSON\n",
    "    'Content-Type' : 'application/json;ty=4'   # Content is JSON, and represents an <ContentInstance> resource\n",
    "}\n",
    "\n",
    "data = '''\n",
    "{\n",
    "  \"m2m:cin\": {\n",
    "    \"cnf\": \"text/plain:0\",\n",
    "    \"con\": \"Hello, World!\"\n",
    "  }\n",
    "}\n",
    "'''\n",
    "\n",
    "response = requests.post(url + '/myAE/myContainer', headers=headers, data=data)    # CREATE request\n",
    "printResponse(response)"
   ]
  },
  {
   "cell_type": "markdown",
   "metadata": {},
   "source": [
    "- **cs** : This attribute contains the size of the content of the **con** attribute.\n",
    "\n",
    "## Retrieve the latest &lt;ContentInstance> resource\n",
    "This request will retrieve the latest data instance from the &lt;Container>."
   ]
  },
  {
   "cell_type": "markdown",
   "metadata": {},
   "source": [
    "## Update the &lt;Container Resource"
   ]
  },
  {
   "cell_type": "markdown",
   "metadata": {},
   "source": [
    "\n",
    "## Check the &lt;Container> resource\n",
    "Retrieve the &lt;Container> resource to see"
   ]
  },
  {
   "cell_type": "markdown",
   "metadata": {},
   "source": [
    "## Delete the &lt;AE> Resource and all its Sub-Resources\n",
    "This section finally deletes the &lt;AE> resource and all its sub-resources from the CSE."
   ]
  },
  {
   "cell_type": "code",
   "execution_count": null,
   "metadata": {},
   "outputs": [],
   "source": [
    "headers = {\n",
    "    'X-M2M-Origin' : originator,                  # Set the originator\n",
    "    'Accept'       : 'application/json',          # Response shall be JSON\n",
    "    'Content-Type' : 'application/json;ty=2'      # Content is JSON, and represents an <AE> resource\n",
    "}\n",
    "\n",
    "response = requests.delete(url + '/myAE', headers=headers)   # DELETE request\n",
    "printResponse(response)"
   ]
  }
 ],
 "metadata": {
  "kernelspec": {
   "display_name": "Python 3",
   "language": "python",
   "name": "python3"
  },
  "language_info": {
   "codemirror_mode": {
    "name": "ipython",
    "version": 3
   },
   "file_extension": ".py",
   "mimetype": "text/x-python",
   "name": "python",
   "nbconvert_exporter": "python",
   "pygments_lexer": "ipython3",
   "version": "3.7.2"
  }
 },
 "nbformat": 4,
 "nbformat_minor": 2
}
