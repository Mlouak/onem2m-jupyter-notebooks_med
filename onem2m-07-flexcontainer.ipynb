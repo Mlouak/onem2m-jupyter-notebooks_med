{
 "cells": [
  {
   "cell_type": "markdown",
   "metadata": {},
   "source": [
    "<img style=\"float: right; padding: 10px;\" width=\"200\" src=\"images/logo-onem2m-the-iot-standard.jpg\">\n",
    "\n",
    "# oneM2M - flexContainers and Specializations\n",
    "\n",
    "This notebook demonstrates how to work with &lt;flexContainer> Resources and how to make use of pre-defined and more standardized data structures.\n",
    "\n",
    "&lt;flexContainer> resources cannot directly be instantiated. Instead, they can be seen as a base for  specialized resource definitions with a given structure and semantics. oneM2M defines in its technical specification *TS-0023* a number of those &lt;flexContainer> specialisations for various application domains. \n",
    "\n",
    "In this notebook we use the &lt;flexContainer> specialization *[colour]*, which consists of three RGB data points, ie. *red*, *green*, and *blue*.\n",
    "\n",
    "<div class=\"alert alert-block alert-warning\" style=\"color: #b42025;background-color: white; border: 2px solid; padding: 10px; width: calc(100% - 400px);\">\n",
    "    <b><i class=\"fa fa-info-circle\" aria-hidden=\"true\"></i>&nbsp; oneM2M</b><br>\n",
    "In oneM2M the normal resource types are written as &lt;resourceType>. Specializations, ie. resource types that inherit from a &lt;flexContainer>, are written as [specializationType].</div>\n",
    "\n",
    "\n",
    "- Create a &lt;flexContainer> [colour] specialization resource \n",
    "- Update a [colour] resource\n",
    "- Retrieve a &lt;flexContainer> resource\n",
    "- Enable &lt;flexContainerInstance> resource\n",
    "- Retrieve &lt;flexContainerInstance> resources\n",
    "\n",
    "## Intitialization\n",
    "The section does import necessary modules and configurations, and prepares the CSE for this notebook."
   ]
  },
  {
   "cell_type": "code",
   "execution_count": null,
   "metadata": {},
   "outputs": [],
   "source": [
    "%run src/init.py flexcontainer"
   ]
  },
  {
   "cell_type": "markdown",
   "metadata": {},
   "source": [
    "\n",
    "## Create a &lt;flexContainer> [colour] Resource\n",
    "\n",
    "<img align=\"right\" src=\"images/07/create_flexContainer.png\">\n",
    "\n",
    "\n",
    "This request will create a &lt;flexContainer> resource that follows oneM2M's \"cod:colour\" specialization.\n",
    "One advantage of a &lt;flexContainer> over a normal &lt;container> resource is that it contains all data points of a data structure in one place, ie. all data points can be updated at once.\n",
    "\n",
    "\n",
    "<div class=\"alert alert-block alert-warning\" style=\"color: #b42025;background-color: white; border: 2px solid; padding: 10px; width: calc(100% - 400px);\">\n",
    "    <b><i class=\"fa fa-info-circle\" aria-hidden=\"true\"></i>&nbsp; oneM2M</b><br>\n",
    "One important thing to notice that is also different from other requests is that the name of the resource, \"cod:color\", is the domain name and the name of specialization type, not the resource type.</div>\n",
    "\n",
    "\n",
    "The &lt;flexContainer> in the request contain the following new attributes:\n",
    "\n",
    "- **cnd** : The *containerDefinition* attribute contains the type of the specialization, usually in reverse domain notation.\n",
    "\n",
    "The other attributes are specialization specific and represent the functional data points:\n",
    "\n",
    "- **red**, **green**, **blue** : The data points for the RGB red, green, and blue channels.\n"
   ]
  },
  {
   "cell_type": "code",
   "execution_count": null,
   "metadata": {},
   "outputs": [],
   "source": [
    "CREATE (                                           # CREATE request\n",
    "    \n",
    "    # Create the [colour] resource under the Notebook AE\n",
    "    target                  = cseBaseName + '/Notebook-AE',  \n",
    "    \n",
    "    # Request Attributes\n",
    "    originator              = 'Cmyself',           # Set the originator\n",
    "    requestIdentifier       = '123',               # Unique request identifier\n",
    "    releaseVersionIndicator = '3',                 # Release version indicator\n",
    "    resourceType            = Type.FlexContainer,  # Type of the resource: FlexContainer\n",
    "    \n",
    "    # Request Body\n",
    "    content = \n",
    "        {\n",
    "            'cod:color' : {\n",
    "                'rn'    : 'Colour',\n",
    "                'cnd'   : 'org.onem2m.common.moduleclass.colour',\n",
    "                'red'   : 0,\n",
    "                'green' : 255,\n",
    "                'blue'  : 0\n",
    "            }\n",
    "        }\n",
    ")"
   ]
  },
  {
   "cell_type": "markdown",
   "metadata": {},
   "source": [
    "<a id=\"update_colour\"></a>\n",
    "<img align=\"right\" src=\"images/07/update_flexContainer.png\">\n",
    "## Update the [colour] Resource\n",
    "\n",
    "A &lt;flexContainer> specialization can be updated as any other resource. This means that it is possible to update all or only individual data points of a data structure.  \n",
    "In the following request we only update the RGB *red* data point.\n"
   ]
  },
  {
   "cell_type": "code",
   "execution_count": null,
   "metadata": {},
   "outputs": [],
   "source": [
    "UPDATE (                                            # UPDATE request\n",
    "\n",
    "    # Target the [colour] resource\n",
    "    target                  = cseBaseName + '/Notebook-AE/Colour',  \n",
    "\n",
    "\n",
    "    # Request Attributes\n",
    "    originator              = 'Cmyself',            # Set the originator\n",
    "    requestIdentifier       = '123',                # Unique request identifier\n",
    "    releaseVersionIndicator = '3',                  # Release version indicator\n",
    "    \n",
    "    # Request Body\n",
    "    content = \n",
    "        {\n",
    "            'cod:color': {\n",
    "                'red'  : 255                        # Assign a new value to the 'red' data point\n",
    "            }\n",
    "        }\n",
    ")"
   ]
  },
  {
   "cell_type": "markdown",
   "metadata": {},
   "source": [
    "<img align=\"right\" src=\"images/07/retrieve_flexContainer.png\">\n",
    "\n",
    "## Retrieve the [colour]  Resource\n",
    "This request retrieves the full &lt;flexContainer> resource. This request is not different from working with other resource types."
   ]
  },
  {
   "cell_type": "code",
   "execution_count": null,
   "metadata": {},
   "outputs": [],
   "source": [
    "RETRIEVE (                                          # RETRIEVE request\n",
    "\n",
    "    # Retrieve the [colour] resource\n",
    "    target                  = cseBaseName + '/Notebook-AE/Colour', \n",
    "\n",
    "    # Request Attributes\n",
    "    originator              = 'Cmyself',            # Set the originator\n",
    "    requestIdentifier       = '123',                # Unique request identifier\n",
    "    releaseVersionIndicator = '3',                  # Release version indicator\n",
    ")"
   ]
  },
  {
   "cell_type": "markdown",
   "metadata": {},
   "source": [
    "<img align=\"right\" src=\"images/07/update_flexContainer_2.png\">\n",
    "\n",
    "## Enable &lt;flexContainerInstance> Resources \n",
    "\n",
    "<div class=\"alert alert-block alert-warning\" style=\"color: #b42025;background-color: white; border: 2px solid; padding: 10px; width: calc(100% - 400px);\">\n",
    "    <b><i class=\"fa fa-info-circle\" aria-hidden=\"true\"></i>&nbsp; oneM2M</b><br>\n",
    " Since oneM2M Release 4 it is possible to configure a &lt;flexContainer> to save and store previous versions of itself in &lt;flexContainerInstances>. This functionality is similar to what we already know from &lt;container> and &lt;contentInstance> resources, but only for the state of a &lt;flexContainer>, ie. the custom attributes and <i>labels</i>.\n",
    "</div>\n",
    "\n",
    "\n",
    "The following UPDATE requests enables this features by setting the *maxNrOfInstances* attribute to a value. This instructs the CSE to store a couple of old versions of the &lt;flexContainer> resource's data points."
   ]
  },
  {
   "cell_type": "code",
   "execution_count": null,
   "metadata": {},
   "outputs": [],
   "source": [
    "UPDATE (                                            # UPDATE request\n",
    "\n",
    "    # Target the [colour] resource\n",
    "    target                  = cseBaseName + '/Notebook-AE/Colour',  \n",
    "\n",
    "\n",
    "    # Request Attributes\n",
    "    originator              = 'Cmyself',            # Set the originator\n",
    "    requestIdentifier       = '123',                # Unique request identifier\n",
    "    releaseVersionIndicator = '3',                  # Release version indicator\n",
    "    \n",
    "    # Request Body\n",
    "    content = \n",
    "        {\n",
    "            'cod:color': {\n",
    "                'mni'  : 10                         # Set the maxNrOfInstances and enable <flexContainerInstances>\n",
    "            }\n",
    "        }\n",
    ")"
   ]
  },
  {
   "cell_type": "markdown",
   "metadata": {},
   "source": [
    "\n",
    "<div class=\"alert alert-block alert-warning\" style=\"color: #b42025;background-color: white; border: 2px solid; padding: 10px; width: calc(100% - 400px);\">\n",
    "    <b><i class=\"fa fa-info-circle\" aria-hidden=\"true\"></i>&nbsp; oneM2M</b><br>\n",
    "When &lt;flexContainerInstance> resources are enabled for &lt;flexContainer>, the CSE automatically saves the current states and any future change to the &lt;flexContainer> resource in a new &lt;flexContainerInstance> resource. It also adds the virtual resources <i>latest</i> and <i>oldest</i> that have the same functionality as for &lt;container> resources.\n",
    "  \n",
    "Similar to &lt;contentInstance> resources, &lt;flexContainerInstance> resources are managed by their parent resource. They can be retrieved and deleted, but not created by a request or updated.\n",
    "</div>\n",
    "\n",
    "\n",
    "We can create more &lt;flexContainerInstances> by more [sending UPDATE requests](#update_colour) to the original &lt;flexContainer> resource.\n",
    "\n",
    "<img align=\"right\" src=\"images/07/retrieve_oldest.png\">\n",
    "\n",
    "## Retrieve the oldest &lt;flexContainerInstance> Resource\n",
    "\n",
    "Retrieval of &lt;flexContainerInstance> resources is similar to the retrieval of &lt;contentInstance> resources under a &lt;container>. The virtual resources &lt;latest> and &lt;oldest> provide access to the newest and oldest available &lt;flexContainerInstance> resources."
   ]
  },
  {
   "cell_type": "code",
   "execution_count": null,
   "metadata": {},
   "outputs": [],
   "source": [
    "RETRIEVE (                                                 # RETRIEVE request\n",
    "\n",
    "    # Retrieve the [colour] resource\n",
    "    target                  = cseBaseName + '/Notebook-AE/Colour/ol', \n",
    "\n",
    "    # Request Attributes\n",
    "    originator              = 'Cmyself',                   # Set the originator\n",
    "    requestIdentifier       = '123',                       # Unique request identifier\n",
    "    releaseVersionIndicator = '3',                         # Release version indicator\n",
    ")"
   ]
  },
  {
   "cell_type": "markdown",
   "metadata": {},
   "source": [
    "\n",
    "<div class=\"alert alert-block alert-warning\" style=\"color: #b42025;background-color: white; border: 2px solid; padding: 10px; width: calc(100% - 400px);\">\n",
    "    <b><i class=\"fa fa-info-circle\" aria-hidden=\"true\"></i>&nbsp; oneM2M</b><br>\n",
    "The &lt;flexContainerInstance> resources are automatically numbered by using the current value of the <i>stateTag</i> attribute. Since this attribute might change independently the numbering of the &lt;flexContainerInstance> resources is not necessarily continuous.\n",
    "</div>\n",
    "\n",
    "&nbsp;"
   ]
  }
 ],
 "metadata": {
  "kernelspec": {
   "display_name": "Python 3 (ipykernel)",
   "language": "python",
   "name": "python3"
  },
  "language_info": {
   "codemirror_mode": {
    "name": "ipython",
    "version": 3
   },
   "file_extension": ".py",
   "mimetype": "text/x-python",
   "name": "python",
   "nbconvert_exporter": "python",
   "pygments_lexer": "ipython3",
   "version": "3.8.7"
  }
 },
 "nbformat": 4,
 "nbformat_minor": 4
}
