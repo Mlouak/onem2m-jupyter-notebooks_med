{
 "cells": [
  {
   "cell_type": "markdown",
   "metadata": {},
   "source": [
    "# oneM2M - First Contact\n",
    "This notebook shows the the first basic interactions with a CSE using a REST call to retrieve the root CSE resource.\n",
    "\n",
    "- Retrieve a &lt;CSEBase> resource\n",
    "\n",
    "## Intitialization\n",
    "The section does import necessary modules and configurations."
   ]
  },
  {
   "cell_type": "code",
   "execution_count": 1,
   "metadata": {},
   "outputs": [
    {
     "data": {
      "text/markdown": [
       "<span style='color:green'>**Configuration Ready**</span>"
      ],
      "text/plain": [
       "<IPython.core.display.Markdown object>"
      ]
     },
     "metadata": {},
     "output_type": "display_data"
    }
   ],
   "source": [
    "from init import *"
   ]
  },
  {
   "cell_type": "markdown",
   "metadata": {},
   "source": [
    "## Retrieve the &lt;CSEBase> Resource\n",
    "This first example retrieves the &lt;CSEBase> resource from the CSE. This resource represents the root of the CSE itself. All other resources are located beneath this root resource."
   ]
  },
  {
   "cell_type": "code",
   "execution_count": 2,
   "metadata": {},
   "outputs": [
    {
     "data": {
      "text/markdown": [
       "Sending request to **http://localhost:8080/cse-in**"
      ],
      "text/plain": [
       "<IPython.core.display.Markdown object>"
      ]
     },
     "metadata": {},
     "output_type": "display_data"
    },
    {
     "data": {
      "text/markdown": [
       "**Headers**"
      ],
      "text/plain": [
       "<IPython.core.display.Markdown object>"
      ]
     },
     "metadata": {},
     "output_type": "display_data"
    },
    {
     "name": "stdout",
     "output_type": "stream",
     "text": [
      "X-M2M-Origin:CAdmin\n",
      "X-M2M-RI:1\n",
      "Accept:application/json\n"
     ]
    },
    {
     "data": {
      "text/markdown": [
       "---\n",
       "### Response"
      ],
      "text/plain": [
       "<IPython.core.display.Markdown object>"
      ]
     },
     "metadata": {},
     "output_type": "display_data"
    },
    {
     "name": "stdout",
     "output_type": "stream",
     "text": [
      "200 (OK)\n"
     ]
    },
    {
     "data": {
      "text/markdown": [
       "\n",
       "**Headers**"
      ],
      "text/plain": [
       "<IPython.core.display.Markdown object>"
      ]
     },
     "metadata": {},
     "output_type": "display_data"
    },
    {
     "name": "stdout",
     "output_type": "stream",
     "text": [
      "Content-Type:application/json\n",
      "Content-Length:359\n",
      "X-M2M-RSC:2000\n",
      "X-M2M-RI:1\n",
      "Server:Werkzeug/0.16.0 Python/3.8.0\n",
      "Date:Fri, 21 Feb 2020 20:01:09 GMT\n"
     ]
    },
    {
     "data": {
      "text/markdown": [
       "\n",
       "**Body**\n"
      ],
      "text/plain": [
       "<IPython.core.display.Markdown object>"
      ]
     },
     "metadata": {},
     "output_type": "display_data"
    },
    {
     "name": "stdout",
     "output_type": "stream",
     "text": [
      "{\n",
      "  \"m2m:cb\": {\n",
      "    \"acpi\": [\n",
      "      \"acpAdmin\"\n",
      "    ],\n",
      "    \"cr\": \"CAdmin\",\n",
      "    \"csi\": \"id-in\",\n",
      "    \"cst\": 1,\n",
      "    \"csz\": [\n",
      "      \"application/json\",\n",
      "      \"application/vnd.onem2m-res+json\"\n",
      "    ],\n",
      "    \"ct\": \"20200221T194230,943684\",\n",
      "    \"et\": \"20210220T194230,943967\",\n",
      "    \"lt\": \"20200221T194230,943684\",\n",
      "    \"pi\": \"\",\n",
      "    \"poa\": [\n",
      "      \"http://127.0.0.1:8080\"\n",
      "    ],\n",
      "    \"ri\": \"id-in\",\n",
      "    \"rn\": \"cse-in\",\n",
      "    \"rr\": false,\n",
      "    \"srt\": [\n",
      "      1,\n",
      "      2,\n",
      "      3,\n",
      "      4,\n",
      "      5,\n",
      "      9,\n",
      "      16,\n",
      "      13,\n",
      "      14,\n",
      "      23,\n",
      "      28\n",
      "    ],\n",
      "    \"srv\": [\n",
      "      \"3\"\n",
      "    ],\n",
      "    \"st\": 0,\n",
      "    \"ty\": 5\n",
      "  }\n",
      "}\n"
     ]
    },
    {
     "data": {
      "text/markdown": [
       "---"
      ],
      "text/plain": [
       "<IPython.core.display.Markdown object>"
      ]
     },
     "metadata": {},
     "output_type": "display_data"
    }
   ],
   "source": [
    "RETRIEVE (                                          # RETRIEVE request\n",
    "    url,\n",
    "    \n",
    "    # Request Headers\n",
    "    {\n",
    "        'X-M2M-Origin' : originator,                # Set the originator\n",
    "        'X-M2M-RI'     : '1',                       # Unique request identifier\n",
    "        'Accept'       : 'application/json'         # Response shall be JSON    \n",
    "    }\n",
    ")"
   ]
  },
  {
   "cell_type": "markdown",
   "metadata": {},
   "source": [
    "The response contains a lot of informations about the CSE itself:\n",
    "\n",
    "- **rn** : A unique ResourceName. If left out in creation requests, the CSE assigns a unique resource name on its own.\n",
    "- **ty** : Resource type.\n",
    "- **ri** : Resource identifier. This uniquely identifies a resource in a CSE.\n",
    "- **ct, lt** : Creation and latest motification dates of a resource.\n",
    "- **acpi** : A list of &lt;AccessControlPolicy> resources, which specify access control and rights to a resource.\n",
    "- **cst** : The type of CSE (IN, MN etc)\n",
    "- **csi** : The CSE Identifier.\n",
    "- **srt** : A list of Resource Types supported by this CSE.\n",
    "- **poa** : The Point of Access of the CSE."
   ]
  }
 ],
 "metadata": {
  "kernelspec": {
   "display_name": "Python 3",
   "language": "python",
   "name": "python3"
  },
  "language_info": {
   "codemirror_mode": {
    "name": "ipython",
    "version": 3
   },
   "file_extension": ".py",
   "mimetype": "text/x-python",
   "name": "python",
   "nbconvert_exporter": "python",
   "pygments_lexer": "ipython3",
   "version": "3.8.0"
  }
 },
 "nbformat": 4,
 "nbformat_minor": 2
}
