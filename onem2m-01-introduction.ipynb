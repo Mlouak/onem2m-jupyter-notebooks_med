{
 "cells": [
  {
   "cell_type": "markdown",
   "metadata": {},
   "source": [
    "# oneM2M - First Contact\n",
    "This notebook shows the the first basic interactions with a CSE using a REST call to retrieve the root CSE resource.\n",
    "\n",
    "- Retrieve a &lt;CSEBase> resource\n",
    "\n",
    "## Intitialization\n",
    "\n",
    "The section does import necessary modules and configurations, and prepares the CSE for this notebook."
   ]
  },
  {
   "cell_type": "code",
   "execution_count": null,
   "metadata": {},
   "outputs": [],
   "source": [
    "%run src/init.py introduction"
   ]
  },
  {
   "cell_type": "markdown",
   "metadata": {},
   "source": [
    "<img align=\"right\" src=\"images/01/retrieve_CSEBase.png\">\n",
    "\n",
    "## Retrieve the &lt;CSEBase> Resource\n",
    "\n",
    "\n",
    "This first example retrieves the &lt;CSEBase> resource from the CSE. This resource represents the root of the CSE itself. All other resources are located under this root resource."
   ]
  },
  {
   "cell_type": "code",
   "execution_count": null,
   "metadata": {},
   "outputs": [],
   "source": [
    "RETRIEVE (                                        # RETRIEVE request\n",
    "    \n",
    "    # Target the CSEBase itself\n",
    "    target                  = cseBaseName,        \n",
    "\n",
    "    # Request Attributes\n",
    "    originator              = defaultOriginator,  # Set the originator\n",
    "    requestIdentifier       = '123',              # Unique request identifier\n",
    "    releaseVersionIndicator = '3',                # Release version indicator\n",
    ")"
   ]
  },
  {
   "cell_type": "markdown",
   "metadata": {},
   "source": [
    "**Congratulations!**  \n",
    "You just sent your first request to a oneM2M CSE.\n",
    "\n",
    "\n",
    "<div class=\"alert alert-block alert-warning\" style=\"color: #b42025; background-color: white; border: 2px solid; padding: 10px; width: calc(100% - 400px);\">\n",
    "    <b><i class=\"fa fa-info-circle\" aria-hidden=\"true\"></i>&nbsp; oneM2M</b><br>\n",
    "\n",
    "oneM2M tries to optimize the amount of data that is passed around. So, the attributes in the sent and received requests are only represented by their short names.  \n",
    "    We try to explain the important attributes in these notebooks, but you can always hover with your mouse over an attribute to get a short description.\n",
    "</div>\n",
    "\n",
    "\n",
    "\n",
    "The response contains a resource called *CSEBase* that provides a lot of informations about the CSE itself:\n",
    "\n",
    "- **rn** : A resourceName. If left out in creation requests, the CSE assigns a unique resource name on its own. for the CSEBase this is usually set by the administrator.\n",
    "- **ty** : Resource type.\n",
    "- **ri** : Resource identifier. This uniquely identifies a resource in a CSE.\n",
    "- **ct, lt** : Creation and latest motification dates of a resource.\n",
    "- **acpi** : A list of &lt;AccessControlPolicy> resources, which specify access control and rights to a resource.\n",
    "- **cst** : The type of CSE (IN, MN etc)\n",
    "- **csi** : The CSE Identifier. It always starts with a /.\n",
    "- **srt** : A list of Resource Types supported by this CSE.\n",
    "- **srv** : The oneM2M release versions supported by this CSE.\n",
    "- **poa** : The Point of Access of the CSE.\n",
    "- **ctm** : The current time of the CSE."
   ]
  },
  {
   "cell_type": "markdown",
   "metadata": {},
   "source": [
    "&nbsp;"
   ]
  }
 ],
 "metadata": {
  "kernelspec": {
   "display_name": "Python 3 (ipykernel)",
   "language": "python",
   "name": "python3"
  },
  "language_info": {
   "codemirror_mode": {
    "name": "ipython",
    "version": 3
   },
   "file_extension": ".py",
   "mimetype": "text/x-python",
   "name": "python",
   "nbconvert_exporter": "python",
   "pygments_lexer": "ipython3",
   "version": "3.8.7"
  }
 },
 "nbformat": 4,
 "nbformat_minor": 4
}
