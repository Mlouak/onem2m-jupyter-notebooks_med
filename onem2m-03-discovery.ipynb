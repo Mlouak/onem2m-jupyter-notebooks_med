{
 "cells": [
  {
   "cell_type": "markdown",
   "metadata": {},
   "source": [
    "<img style=\"float: right; padding: 10px;\" width=\"200\" src=\"images/logo-onem2m-the-iot-standard.jpg\">\n",
    "\n",
    "\n",
    "# oneM2M - Discovery\n",
    "\n",
    "This notebook shows how resources can be discovered in CSE.\n",
    "\n",
    "Resource discovery can be rather sophisticated. The examples here just show the basic concepts.\n",
    "\n",
    "- Retrieve all &lt;ContentInstance> resources from the CSE\n",
    "- Add a &lt;ContentInstance resource with a label\n",
    "- Discover a &lt;ContentInstance> resource by its label\n",
    "\n",
    "## Intitialization\n",
    "The section does import necessary modules and configurations, and prepares the CSE for this notebook.\n"
   ]
  },
  {
   "cell_type": "code",
   "execution_count": null,
   "metadata": {},
   "outputs": [],
   "source": [
    "%run src/init.py discovery"
   ]
  },
  {
   "cell_type": "markdown",
   "metadata": {},
   "source": [
    "<div class=\"alert alert-block alert-info\" style=\"background-color: white; border: 2px solid; padding: 10px; width:calc(100% - 400px);\">\n",
    "    <b><i class=\"fa fa-info-circle\" aria-hidden=\"true\"></i>&nbsp; Note</b><br>\n",
    "Note that this time some more resources are created during the initialization. They are needed for the requests in this notebook.\n",
    "</div>\n",
    "\n",
    "\n",
    "\n",
    "## Get all &lt;contentInstance> Resources from a &lt;container> Resource\n",
    "\n",
    "<img align=\"right\" src=\"images/03/retrieve_contentInstances.png\">\n",
    "\n",
    "\n",
    "This example demonstrates how one can retrieve references  to all the content instances from the &lt;container> resource.  \n",
    "The prepared structure already contains a couple of &lt;contentInstance> resources under the &lt;container>.\n",
    "\n",
    "For this, we send a RETRIEVE request with some extra parameters to the URL:\n",
    "\n",
    "- **fu** : The *filter usage* specifies that we actually want to do do a conditional retrieval.\n",
    "- **ty** : This parameter specifies the *resource type* we are looking for."
   ]
  },
  {
   "cell_type": "code",
   "execution_count": null,
   "metadata": {},
   "outputs": [],
   "source": [
    "RETRIEVE (                                                      # RETRIEVE request\n",
    "\n",
    "    # Retrieve the <container> resource\n",
    "    target                  = cseBaseName + '/Notebook-AE/Container', \n",
    "\n",
    "    # Request Attributes\n",
    "    originator              = 'Cmyself',                        # Set the originator\n",
    "    requestIdentifier       = '123',                            # Unique request identifier\n",
    "    releaseVersionIndicator = '3',                              # Release version indicator\n",
    "    filterUsage             = FilterUsage.conditionalRetrieval, # Do a conditional retrieval request\n",
    "    filters                 = [ 'ty=4' ],                       # Set the filters to resource type = ContentInstance\n",
    "    resultContent           = RCN.childResourceReferences       # Return the result as references to child resources\n",
    ")"
   ]
  },
  {
   "cell_type": "markdown",
   "metadata": {},
   "source": [
    "- **m2m:rrl** : The result contains a list of structured resource identifiers of the discovered resources and their types.\n",
    "- **m2m:rrf** : This is the list of structured resource identifiers.\n",
    "\n",
    "\n",
    "<img align=\"right\" src=\"images/03/create_contentInstanceLabel.png\">\n",
    "\n",
    "\n",
    "## Add a &lt;contentInstance> Resource with a Label\n",
    "\n",
    "The next example introduces labels. Every resource may have a space separated list of labels.  \n",
    "A label can either be a a tag or keyword, or has a key and a value, and can be used as application defined meta-data for that resource.\n",
    "\n",
    "With the following CREATE request we add a label *tag:greeting* to a &lt;contentInstance>.\n",
    "\n",
    "- **lbl** : The attribute that specifies a list of labels or tags for a resource. A label may contain meta-data provided by an application."
   ]
  },
  {
   "cell_type": "code",
   "execution_count": null,
   "metadata": {},
   "outputs": [],
   "source": [
    "CREATE (                                             # CREATE request\n",
    "    \n",
    "    # Add the <contentInstance> under the <container>\n",
    "    target                  = cseBaseName + '/Notebook-AE/Container',\n",
    "    \n",
    "    # Request Attributes\n",
    "    originator              = 'Cmyself',             # Set the originator\n",
    "    requestIdentifier       = '123',                 # Unique request identifier\n",
    "    releaseVersionIndicator = '3',                   # Release version indicator\n",
    "    resourceType            = Type.ContentInstance,  # Type of the resource\n",
    "    \n",
    "    # Request Body\n",
    "    content = \n",
    "        {   \n",
    "            'm2m:cin': {\n",
    "                'rn':  'CINwithLabel',               # Name of the resource\n",
    "                'lbl': [ 'tag:greeting' ],           # Assign a label\n",
    "                'cnf': 'text/plain:0',               # Media type of the content\n",
    "                'con': 'Hello, World!'               # The content itself\n",
    "            }\n",
    "        }\n",
    ")"
   ]
  },
  {
   "cell_type": "markdown",
   "metadata": {},
   "source": [
    "The new &lt;contentInstance> should be the last in the above resource structure under the &lt;container>.\n",
    "\n",
    "<img align=\"right\" src=\"images/03/retrieve_contentInstanceLabel.png\">\n",
    "\n",
    "\n",
    "## Discover &lt;contentInstance> Resources by a Label\n",
    "\n",
    "Discovery also works with labels, so that an application can retrieve the resources by their meta-data. For this we add the *lbl*  attribute to the paremeter list.  \n",
    "Also, this time we want to get the full resources and not only their references. For this we change the *rcn* parameter to the \"8\"."
   ]
  },
  {
   "cell_type": "code",
   "execution_count": null,
   "metadata": {},
   "outputs": [],
   "source": [
    "RETRIEVE (                                                      # RETRIEVE request\n",
    "\n",
    "    # Discover the <contentInstance> under the <container> via its label\n",
    "    target                  = cseBaseName + '/Notebook-AE/Container', \n",
    "\n",
    "    # Request Attributes\n",
    "    originator              = 'Cmyself',                        # Set the originator\n",
    "    requestIdentifier       = '123',                            # Unique request identifier\n",
    "    releaseVersionIndicator = '3',                              # Release version indicator\n",
    "    filterUsage             = FilterUsage.conditionalRetrieval, # Do a conditional retrieval request\n",
    "    filters                 = [ 'lbl=tag:greeting' ],           # Set the filters to the label\n",
    "    resultContent           = RCN.childResources                # Return the child resources in the result\n",
    ")"
   ]
  },
  {
   "cell_type": "markdown",
   "metadata": {},
   "source": [
    "\n",
    "    \n",
    "<div class=\"alert alert-block alert-warning\" style=\"color: #b42025;background-color: white; border: 2px solid; padding: 10px; width: calc(100% - 400px);\">\n",
    "    <b><i class=\"fa fa-info-circle\" aria-hidden=\"true\"></i>&nbsp; oneM2M</b><br>\n",
    "    The structure that is returned starts with <i>m2m:cnt</i> because we target the parent &lt;container>. The found child resources, the &lt;contentInstances>, are then returned in a list <i>m2m:cin</i>.</div>\n"
   ]
  }
 ],
 "metadata": {
  "kernelspec": {
   "display_name": "Python 3 (ipykernel)",
   "language": "python",
   "name": "python3"
  },
  "language_info": {
   "codemirror_mode": {
    "name": "ipython",
    "version": 3
   },
   "file_extension": ".py",
   "mimetype": "text/x-python",
   "name": "python",
   "nbconvert_exporter": "python",
   "pygments_lexer": "ipython3",
   "version": "3.8.7"
  }
 },
 "nbformat": 4,
 "nbformat_minor": 4
}
