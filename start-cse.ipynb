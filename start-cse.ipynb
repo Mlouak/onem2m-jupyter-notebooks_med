{
 "cells": [
  {
   "cell_type": "markdown",
   "metadata": {},
   "source": [
    "<img style=\"float: right; padding: 10px;\" width=\"200\" src=\"images/logo-onem2m-the-iot-standard.jpg\">\n",
    "\n",
    "\n",
    "# CSE - Runtime\n",
    "\n",
    "## Starting the CSE\n",
    "\n",
    "Executing the following command will start a CSE inside the notebook.\n"
   ]
  },
  {
   "cell_type": "code",
   "execution_count": null,
   "metadata": {
    "tags": []
   },
   "outputs": [],
   "source": [
    "# Increase the width of the notebook to accomodate the log output\n",
    "from IPython.display import display, HTML\n",
    "display(HTML(\"<style>.container { width:100% !important; }</style>\"))\n",
    "\n",
    "# Change to the CSE's directory and start the CSE\n",
    "# Ignore the error from the %cd command\n",
    "%cd -q tools/ACME\n",
    "%run -m acme -- --headless"
   ]
  },
  {
   "cell_type": "markdown",
   "metadata": {},
   "source": [
    "## Stopping the CSE\n",
    "\n",
    "Only one instance of the CSE can run at a time. To stop it you need to *restart* this notebook's kernel from the menu above.\n",
    "\n",
    "<p>\n",
    "<div  style=\"background-color:transparent;border:2px #005480 solid;padding: 10px;width: calc(100% - 350px);border-radius:10px;\">\n",
    "    <div style=\"color:#005480;\"><b><i class=\"fa fa-info-circle\" aria-hidden=\"true\"></i>&nbsp; Note</b></div>\n",
    "    <div style=\"color:#545054;\">\n",
    "Please be patient. The CSE might take a few seconds to startup and shutdown.    </div>\n",
    "    </div>\n",
    "</div>\n",
    "</p>\n",
    "\n",
    "\n",
    "\n",
    "Afterwards you may need to restart the kernel from the menu.\n",
    "\n",
    "## CSE WebUI\n",
    "\n",
    "The CSE has a WebUI that allows you to see the CSE's resource tree and resources' details.\n",
    "\n",
    "It is available at [http://localhost:8080/webui](http://localhost:8080/webui) .\n",
    "\n",
    "<p>\n",
    "<div  style=\"background-color:transparent;border:2px #005480 solid;padding: 10px;width: calc(100% - 350px);border-radius:10px;\">\n",
    "    <div style=\"color:#005480;\"><b><i class=\"fa fa-info-circle\" aria-hidden=\"true\"></i>&nbsp; Note</b></div>\n",
    "    <div style=\"color:#545054;\">\n",
    "        Please note, that the web UI doesn't work when running on MyBinder.\n",
    "    </div>\n",
    "</div>\n",
    "</p>\n",
    "\n",
    "## Changing the Log Level\n",
    "For these notebooks the CSE is configured to run in headless mode, which means it will not produce any runtime messages. This is done for better readability.\n",
    "\n",
    "To get more verbose output to see how commands are processed inside the CSE you can replace the last line in the code cell above with the following command\n",
    "\n",
    "    %run -m acme -- --log-level debug\n",
    "\n",
    "\n",
    "&nbsp;"
   ]
  }
 ],
 "metadata": {
  "kernelspec": {
   "display_name": "Python 3 (ipykernel)",
   "language": "python",
   "name": "python3"
  },
  "language_info": {
   "codemirror_mode": {
    "name": "ipython",
    "version": 3
   },
   "file_extension": ".py",
   "mimetype": "text/x-python",
   "name": "python",
   "nbconvert_exporter": "python",
   "pygments_lexer": "ipython3",
   "version": "3.8.7"
  }
 },
 "nbformat": 4,
 "nbformat_minor": 4
}
